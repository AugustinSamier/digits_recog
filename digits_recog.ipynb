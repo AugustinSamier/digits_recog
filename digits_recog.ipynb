{
 "cells": [
  {
   "cell_type": "code",
   "execution_count": 1,
   "id": "423aeadf",
   "metadata": {},
   "outputs": [],
   "source": [
    "import os\n",
    "import numpy as np\n",
    "import pandas as pd\n",
    "import matplotlib.pyplot as plt"
   ]
  },
  {
   "cell_type": "code",
   "execution_count": 2,
   "id": "c2bfbd56",
   "metadata": {},
   "outputs": [
    {
     "name": "stdout",
     "output_type": "stream",
     "text": [
      "   label  pixel0  pixel1  pixel2  pixel3  pixel4  pixel5  pixel6  pixel7  \\\n",
      "0      1       0       0       0       0       0       0       0       0   \n",
      "1      0       0       0       0       0       0       0       0       0   \n",
      "2      1       0       0       0       0       0       0       0       0   \n",
      "3      4       0       0       0       0       0       0       0       0   \n",
      "4      0       0       0       0       0       0       0       0       0   \n",
      "\n",
      "   pixel8  ...  pixel774  pixel775  pixel776  pixel777  pixel778  pixel779  \\\n",
      "0       0  ...         0         0         0         0         0         0   \n",
      "1       0  ...         0         0         0         0         0         0   \n",
      "2       0  ...         0         0         0         0         0         0   \n",
      "3       0  ...         0         0         0         0         0         0   \n",
      "4       0  ...         0         0         0         0         0         0   \n",
      "\n",
      "   pixel780  pixel781  pixel782  pixel783  \n",
      "0         0         0         0         0  \n",
      "1         0         0         0         0  \n",
      "2         0         0         0         0  \n",
      "3         0         0         0         0  \n",
      "4         0         0         0         0  \n",
      "\n",
      "[5 rows x 785 columns]\n"
     ]
    }
   ],
   "source": [
    "trainDf=pd.read_csv(\"train.csv\")\n",
    "print(trainDf.head())"
   ]
  },
  {
   "cell_type": "code",
   "execution_count": 3,
   "id": "fcd59e04",
   "metadata": {},
   "outputs": [
    {
     "name": "stdout",
     "output_type": "stream",
     "text": [
      "(42000, 785)\n"
     ]
    }
   ],
   "source": [
    "print(trainDf.shape)"
   ]
  },
  {
   "cell_type": "code",
   "execution_count": 4,
   "id": "be20b5b1",
   "metadata": {},
   "outputs": [
    {
     "name": "stdout",
     "output_type": "stream",
     "text": [
      "Size of y_train : 42000\n",
      "Size of X_train : (42000, 28, 28)\n",
      "\n"
     ]
    }
   ],
   "source": [
    "ytrain=trainDf[\"label\"].values\n",
    "X_train=trainDf.iloc[:,1:].values.reshape(-1,28,28)\n",
    "X_train=X_train.astype(np.float32)/255.0\n",
    "print(f\"Size of y_train : {len(ytrain)}\\nSize of X_train : {X_train.shape}\\n\")"
   ]
  },
  {
   "cell_type": "code",
   "execution_count": 5,
   "id": "70e1a84a",
   "metadata": {},
   "outputs": [
    {
     "data": {
      "image/png": "[encoded data removed]",
      "text/plain": [
       "<Figure size 640x480 with 1 Axes>"
      ]
     },
     "metadata": {},
     "output_type": "display_data"
    }
   ],
   "source": [
    "plt.imshow(X_train[0],cmap=\"gray\")\n",
    "plt.title(\"Premier sample\")\n",
    "plt.axis(\"off\")\n",
    "plt.show()"
   ]
  },
  {
   "cell_type": "code",
   "execution_count": 6,
   "id": "ef179dae",
   "metadata": {},
   "outputs": [],
   "source": [
    "sobelX=np.array([\n",
    "    [-1,0,1],\n",
    "    [-2,0,2],\n",
    "    [-1,0,1]\n",
    "]) #detection de bords horizontaux\n",
    "\n",
    "sobelY=np.array([\n",
    "    [-1,-2,-1],\n",
    "    [0,0,0],\n",
    "    [1,2,1]\n",
    "]) #detection de bords verticaux\n",
    "\n",
    "prewittX=np.array([\n",
    "    [-1,0,1],\n",
    "    [-1,0,1],\n",
    "    [-1,0,1]\n",
    "]) #detection de bords horizontaux (comme sobelX mais moins marqué)\n",
    "\n",
    "laplacien=np.array([\n",
    "    [0,-1,0],\n",
    "    [-1,4,-1],\n",
    "    [0,-1,0]\n",
    "]) #detection de bords toutes directions\n",
    "\n",
    "laplacienPlus=np.array([\n",
    "    [-1,-1,-1],\n",
    "    [-1,8,-1],\n",
    "    [-1,-1,-1]\n",
    "]) #detection de bords toutes directions (laplacien plus marqué)\n",
    "\n",
    "blur=np.array([\n",
    "    [1/9,1/9,1/9],\n",
    "    [1/9,1/9,1/9],\n",
    "    [1/9,1/9,1/9]\n",
    "]) #flou\n",
    "\n",
    "gaussien=np.array([\n",
    "    [1/16,2/16,1/16],\n",
    "    [2/16,4/16,2/16],\n",
    "    [1/16,2/16,1/16]\n",
    "]) #flou plus doux\n",
    "\n",
    "sharpen=np.array([\n",
    "    [0,-1,0],\n",
    "    [-1,5,-1],\n",
    "    [0,-1,0]\n",
    "]) #accentuation contours\n",
    "\n",
    "\n",
    "avrPooling2dKernel=np.array([\n",
    "    [1/4,1/4],\n",
    "    [1/4,1/4]\n",
    "]) #Fait la moyenne des 4 éléments = avrPooling de dim 2,2"
   ]
  },
  {
   "cell_type": "code",
   "execution_count": 7,
   "id": "bb5a3e60",
   "metadata": {},
   "outputs": [],
   "source": [
    "def padding(img,pad_size=0):\n",
    "    if pad_size==0:\n",
    "        return img\n",
    "    else:\n",
    "        newImg=np.zeros((img.shape[0]+2*pad_size,img.shape[1]+2*pad_size))\n",
    "        for w in range(pad_size,newImg.shape[0]-pad_size):\n",
    "            for h in range(pad_size,newImg.shape[1]-pad_size):\n",
    "                newImg[w][h]=img[w-pad_size][h-pad_size]\n",
    "        return newImg"
   ]
  },
  {
   "cell_type": "code",
   "execution_count": 8,
   "id": "80b80d3a",
   "metadata": {},
   "outputs": [],
   "source": [
    "def createRandomKernels(nb_kernels,dim):\n",
    "    kernels=[]\n",
    "    for i in range(nb_kernels):\n",
    "        kernels.append(np.random.randn(dim[0],dim[1]))\n",
    "    return kernels"
   ]
  },
  {
   "cell_type": "code",
   "execution_count": 9,
   "id": "1796c8f7",
   "metadata": {},
   "outputs": [],
   "source": [
    "def maxPooling2d(images,dim):\n",
    "    maxed=[]\n",
    "    for img in images:\n",
    "        newImg=np.zeros((((img.shape[0]-dim[0])//dim[0])+1,((img.shape[1]-dim[1])//dim[1])+1))\n",
    "        for w in range(newImg.shape[0]):\n",
    "            for h in range(newImg.shape[1]):\n",
    "                cur_max=float(\"-inf\")\n",
    "                for kw in range(dim[0]):\n",
    "                    for kh in range(dim[1]):\n",
    "                        if img[w*dim[0]+kw][h*dim[1]+kh]>cur_max:\n",
    "                            cur_max=img[w*dim[0]+kw][h*dim[1]+kh]\n",
    "                newImg[w][h]=cur_max\n",
    "        maxed.append(newImg)\n",
    "    return maxed"
   ]
  },
  {
   "cell_type": "code",
   "execution_count": 10,
   "id": "671dcea0",
   "metadata": {},
   "outputs": [],
   "source": [
    "def averagePooling2d(images,dim):\n",
    "    averaged=[]\n",
    "    for img in images:\n",
    "        newImg=np.zeros((((img.shape[0]-dim[0])//dim[0])+1,((img.shape[1]-dim[1])//dim[1])+1))\n",
    "        for w in range(newImg.shape[0]):\n",
    "            for h in range(newImg.shape[1]):\n",
    "                avr=0\n",
    "                for kw in range(dim[0]):\n",
    "                    for kh in range(dim[1]):\n",
    "                        avr+=img[w*dim[0]+kw][h*dim[1]+kh]\n",
    "                newImg[w][h]=avr/(dim[0]*dim[1])\n",
    "        averaged.append(newImg)\n",
    "    return averaged"
   ]
  },
  {
   "cell_type": "code",
   "execution_count": 11,
   "id": "4328a65f",
   "metadata": {},
   "outputs": [],
   "source": [
    "def conv2d(inputs,out_dim,kernel_size,pad_size=0,stride=1,specificKernel=None,extractKernels=False):\n",
    "    outputs=[]\n",
    "    kernels=[]\n",
    "    padded=[]\n",
    "    for img in inputs:\n",
    "        padded.append(padding(img,pad_size=pad_size))\n",
    "    for resultante in range(out_dim):\n",
    "        if specificKernel is not None:\n",
    "            if len(specificKernel)!=len(inputs):\n",
    "                if len(specificKernel)>len(inputs):\n",
    "                    k=specificKernel[:len(inputs)]\n",
    "                else:\n",
    "                    k=specificKernel*(len(inputs)//len(specificKernel))+specificKernel[:len(inputs)%len(specificKernel)]\n",
    "            else:\n",
    "                k=specificKernel\n",
    "        else:\n",
    "            k=createRandomKernels(len(inputs),kernel_size)\n",
    "        kernels.append(k)\n",
    "\n",
    "        newImg=np.zeros((((padded[0].shape[0]-kernel_size[0])//stride)+1,((padded[0].shape[1]-kernel_size[1])//stride)+1))\n",
    "\n",
    "        for w in range(newImg.shape[0]):\n",
    "            for h in range(newImg.shape[1]):\n",
    "                res=0\n",
    "                for kw in range(kernel_size[0]):\n",
    "                    for kh in range(kernel_size[1]):\n",
    "                        tot=0\n",
    "                        for i,img in enumerate(padded):\n",
    "                            tot+=k[i][kw][kh]*img[w*stride+kw][h*stride+kh]\n",
    "                        res+=tot\n",
    "                newImg[w][h]=res\n",
    "\n",
    "        outputs.append(newImg)\n",
    "    \n",
    "    if extractKernels:\n",
    "        return outputs,kernels\n",
    "    return outputs"
   ]
  },
  {
   "cell_type": "code",
   "execution_count": 65,
   "id": "62bbe765",
   "metadata": {},
   "outputs": [
    {
     "data": {
      "image/png": "[encoded data removed]",
      "text/plain": [
       "<Figure size 640x480 with 1 Axes>"
      ]
     },
     "metadata": {},
     "output_type": "display_data"
    },
    {
     "data": {
      "image/png": "[encoded data removed]",
      "text/plain": [
       "<Figure size 640x480 with 1 Axes>"
      ]
     },
     "metadata": {},
     "output_type": "display_data"
    },
    {
     "data": {
      "image/png": "[encoded data removed]",
      "text/plain": [
       "<Figure size 640x480 with 1 Axes>"
      ]
     },
     "metadata": {},
     "output_type": "display_data"
    },
    {
     "data": {
      "image/png": "[encoded data removed]",
      "text/plain": [
       "<Figure size 640x480 with 1 Axes>"
      ]
     },
     "metadata": {},
     "output_type": "display_data"
    },
    {
     "data": {
      "image/png": "[encoded data removed]",
      "text/plain": [
       "<Figure size 640x480 with 1 Axes>"
      ]
     },
     "metadata": {},
     "output_type": "display_data"
    },
    {
     "data": {
      "image/png": "[encoded data removed]",
      "text/plain": [
       "<Figure size 640x480 with 1 Axes>"
      ]
     },
     "metadata": {},
     "output_type": "display_data"
    },
    {
     "data": {
      "image/png": "[encoded data removed]",
      "text/plain": [
       "<Figure size 640x480 with 1 Axes>"
      ]
     },
     "metadata": {},
     "output_type": "display_data"
    },
    {
     "data": {
      "image/png": "[encoded data removed]",
      "text/plain": [
       "<Figure size 640x480 with 1 Axes>"
      ]
     },
     "metadata": {},
     "output_type": "display_data"
    },
    {
     "data": {
      "image/png": "[encoded data removed]",
      "text/plain": [
       "<Figure size 640x480 with 1 Axes>"
      ]
     },
     "metadata": {},
     "output_type": "display_data"
    },
    {
     "data": {
      "image/png": "[encoded data removed]",
      "text/plain": [
       "<Figure size 640x480 with 1 Axes>"
      ]
     },
     "metadata": {},
     "output_type": "display_data"
    },
    {
     "data": {
      "image/png": "[encoded data removed]",
      "text/plain": [
       "<Figure size 640x480 with 1 Axes>"
      ]
     },
     "metadata": {},
     "output_type": "display_data"
    },
    {
     "data": {
      "image/png": "[encoded data removed]",
      "text/plain": [
       "<Figure size 640x480 with 1 Axes>"
      ]
     },
     "metadata": {},
     "output_type": "display_data"
    },
    {
     "data": {
      "image/png": "[encoded data removed]",
      "text/plain": [
       "<Figure size 640x480 with 1 Axes>"
      ]
     },
     "metadata": {},
     "output_type": "display_data"
    },
    {
     "data": {
      "image/png": "[encoded data removed]",
      "text/plain": [
       "<Figure size 640x480 with 1 Axes>"
      ]
     },
     "metadata": {},
     "output_type": "display_data"
    },
    {
     "data": {
      "image/png": "[encoded data removed]",
      "text/plain": [
       "<Figure size 640x480 with 1 Axes>"
      ]
     },
     "metadata": {},
     "output_type": "display_data"
    },
    {
     "data": {
      "image/png": "[encoded data removed]",
      "text/plain": [
       "<Figure size 640x480 with 1 Axes>"
      ]
     },
     "metadata": {},
     "output_type": "display_data"
    }
   ],
   "source": [
    "kernels=[sobelX,sobelY,prewittX,laplacien,laplacienPlus,blur,gaussien,sharpen]\n",
    "#si je veux passer une image BGR il faut d'abord la passer en gris ou séparer les cannaux en plusieurs images\n",
    "images=X_train[:20000]\n",
    "conv1=[]\n",
    "for img in images:\n",
    "    conv=(conv2d([img],6,(5,5),pad_size=0))\n",
    "    avr=averagePooling2d(conv,(2,2))\n",
    "    conv2=conv2d(avr,16,(5,5),pad_size=0)\n",
    "    avr2=averagePooling2d(conv2,(2,2))\n",
    "    conv1.append(avr2)\n",
    "for i in range(1):\n",
    "    for m in range(len(conv1[i])):\n",
    "        plt.imshow(conv1[i][m],cmap=\"gray\")\n",
    "        plt.title(f\"Convolution {m+1} of image {i+1}\")\n",
    "        plt.axis(\"off\")\n",
    "        plt.show()"
   ]
  },
  {
   "cell_type": "code",
   "execution_count": 66,
   "id": "6026eca9",
   "metadata": {},
   "outputs": [],
   "source": [
    "flat=[]\n",
    "for i in range(len(conv1)):\n",
    "    fla=[]\n",
    "    for convs in conv1[i]:\n",
    "        fla.append(convs.flatten())\n",
    "    ca=np.concatenate(fla)\n",
    "    flat.append(ca)\n",
    "flat=np.array(flat)"
   ]
  },
  {
   "cell_type": "code",
   "execution_count": 57,
   "id": "e2ad4f33",
   "metadata": {},
   "outputs": [
    {
     "name": "stdout",
     "output_type": "stream",
     "text": [
      "(100, 256)\n"
     ]
    }
   ],
   "source": [
    "print(flat.shape)"
   ]
  },
  {
   "cell_type": "code",
   "execution_count": 15,
   "id": "19e2a6f2",
   "metadata": {},
   "outputs": [],
   "source": [
    "def createRandomBias(nb_neurones):\n",
    "    bias=np.random.randn(nb_neurones)\n",
    "    return bias"
   ]
  },
  {
   "cell_type": "code",
   "execution_count": 16,
   "id": "0c79edb9",
   "metadata": {},
   "outputs": [],
   "source": [
    "def createRandomWeights(nb_inputs,nb_neurones):\n",
    "    limit=np.sqrt(6/(nb_inputs+nb_neurones))\n",
    "    weights=np.random.uniform(-limit,limit,size=(nb_neurones,nb_inputs))\n",
    "    return weights"
   ]
  },
  {
   "cell_type": "code",
   "execution_count": 177,
   "id": "3012f54d",
   "metadata": {},
   "outputs": [],
   "source": [
    "def denseLayer(inputs,nb_neurones,fonctionActivation=None,specificBias=None,specificWeights=None,returnWeightsAndBias=False,alpha=0.01):\n",
    "    bias=[]\n",
    "    weights=[]\n",
    "    outputs=[]\n",
    "    if specificBias is None:\n",
    "        bias=createRandomBias(nb_neurones)\n",
    "    elif len(specificBias)==nb_neurones:\n",
    "        bias=specificBias\n",
    "    else:\n",
    "        print(f\"Erreur : le nombre de biais assigné ({len(specificBias)}) n'est pas équivalent au nombre de neurones : {nb_neurones}\")\n",
    "    if specificWeights is None:\n",
    "        weights=createRandomWeights(len(inputs),nb_neurones)\n",
    "    elif len(specificWeights)==nb_neurones and len(specificWeights[0])==len(inputs):\n",
    "        weights=specificWeights\n",
    "    else:\n",
    "        print(f\"Erreur : le nombre de poids assigné n'est pas correct : {len(specificWeights)} pour {nb_neurones} neurones et {len(specificWeights[0])} pour {len(inputs)} inputs.\")\n",
    "    for neurone in range(nb_neurones):\n",
    "        result=0\n",
    "        for inpu in range(len(inputs)):\n",
    "            result+=(inputs[inpu]*weights[neurone][inpu])\n",
    "        result+=bias[neurone]\n",
    "        if fonctionActivation==\"ReLU\":\n",
    "            result=max(0,result)\n",
    "        if fonctionActivation==\"Leaky ReLU\":\n",
    "            if result<0:\n",
    "                result=alpha*result\n",
    "        if fonctionActivation==\"Sigmoid\":\n",
    "            result=(1/(1+np.exp(-result)))\n",
    "        if fonctionActivation==\"Tanh\":\n",
    "            result=((np.exp(result)-np.exp(-result))/(np.exp(result)+np.exp(-result)))\n",
    "        outputs.append(result)\n",
    "    outputs=np.array(outputs)\n",
    "    if fonctionActivation==\"Softmax\":\n",
    "        exps=np.exp(outputs-np.max(outputs))\n",
    "        outputs=exps/np.sum(exps)\n",
    "    if returnWeightsAndBias:\n",
    "        return outputs,weights,bias\n",
    "    return outputs"
   ]
  },
  {
   "cell_type": "code",
   "execution_count": 18,
   "id": "fce88c6d",
   "metadata": {},
   "outputs": [
    {
     "name": "stdout",
     "output_type": "stream",
     "text": [
      "[0.09457448 0.99119689 0.21047844]\n",
      "[-0.00808581  0.30425281]\n",
      "[0.30725566 0.01211821 0.68062613]\n"
     ]
    }
   ],
   "source": [
    "test=np.random.randn(3)\n",
    "print(test)\n",
    "outputs=denseLayer(test,2,fonctionActivation=\"Leaky ReLU\")\n",
    "print(outputs)\n",
    "outputs2=denseLayer(outputs,3,fonctionActivation=\"Softmax\")\n",
    "print(outputs2)"
   ]
  },
  {
   "cell_type": "code",
   "execution_count": 58,
   "id": "e51df651",
   "metadata": {},
   "outputs": [],
   "source": [
    "y_train=[]\n",
    "for y in range(len(ytrain)):\n",
    "    yt=np.zeros(10)\n",
    "    yt[ytrain[y]]=1\n",
    "    y_train.append(yt)"
   ]
  },
  {
   "cell_type": "code",
   "execution_count": 20,
   "id": "361ad00a",
   "metadata": {},
   "outputs": [
    {
     "name": "stdout",
     "output_type": "stream",
     "text": [
      "[0. 1. 0. 0. 0. 0. 0. 0. 0. 0.]\n"
     ]
    }
   ],
   "source": [
    "print(y_train[0])"
   ]
  },
  {
   "cell_type": "code",
   "execution_count": 67,
   "id": "4841ea07",
   "metadata": {},
   "outputs": [
    {
     "name": "stdout",
     "output_type": "stream",
     "text": [
      "[1.77505483e-04 1.37800191e-05 2.80721165e-04 1.11897287e-03\n",
      " 3.63420209e-06 2.29136021e-12 1.74602333e-04 9.98230741e-01\n",
      " 3.97857600e-08 3.10910798e-09]\n",
      "[3.67133010e-20 6.49432533e-20 4.90552531e-03 6.71110004e-03\n",
      " 3.24912467e-08 6.05471128e-21 1.11395755e-04 9.88271946e-01\n",
      " 1.83851184e-20 9.76534852e-34]\n"
     ]
    }
   ],
   "source": [
    "weights1,bias1=createRandomWeights(256,128),createRandomBias(128)\n",
    "weights2,bias2=createRandomWeights(128,84),createRandomBias(84)\n",
    "weights3,bias3=createRandomWeights(84,10),createRandomBias(10)\n",
    "f1=\"ReLU\"\n",
    "f2=\"ReLU\"\n",
    "#256 -> 128 -> 84 -> 10\n",
    "def forward(inputs,weights1,bias1,weights2,bias2,weights3,bias3,f1,f2):\n",
    "    outputs1,outputs2,outputs3=[],[],[]\n",
    "    for i,inp in enumerate(inputs):\n",
    "        outputs1.append(denseLayer(inp,128,fonctionActivation=f1,specificBias=bias1,specificWeights=weights1))\n",
    "        outputs2.append(denseLayer(outputs1[i],84,fonctionActivation=f2,specificBias=bias2,specificWeights=weights2))\n",
    "        outputs3.append(denseLayer(outputs2[i],10,fonctionActivation=\"Softmax\",specificBias=bias3,specificWeights=weights3))\n",
    "    return outputs1,outputs2,outputs3\n",
    "\n",
    "outputs1,outputs2,outputs3=forward(flat,weights1,bias1,weights2,bias2,weights3,bias3,f1,f2)\n",
    "\n",
    "print(outputs3[0])\n",
    "print(outputs3[1])"
   ]
  },
  {
   "cell_type": "code",
   "execution_count": 61,
   "id": "b2500913",
   "metadata": {},
   "outputs": [
    {
     "name": "stdout",
     "output_type": "stream",
     "text": [
      "0.1999853005728788\n"
     ]
    }
   ],
   "source": [
    "MSE=[]\n",
    "for out in range(len(outputs3)):\n",
    "    MSE.append((np.sum((outputs3[out]-y_train[out])**2))/10)\n",
    "print(MSE[0])"
   ]
  },
  {
   "cell_type": "code",
   "execution_count": 40,
   "id": "b3cb2392",
   "metadata": {},
   "outputs": [],
   "source": [
    "#DMSE/DWx = DMSE/DYx * DYx/DZx * DZx/DWx pour les poids entre la dernière couche et la couche de sortie\n",
    "#fonction d'activation : Softmax\n",
    "#on fait 84 -> 10 donc chaque output a 84 poids connectés à elle\n",
    "#DMSE/Dweights3[0][0] -> pour actualier le premier poids, celui entre le premier neurone de la couche précédente et la première output.\n",
    "#= DMSE/Doutputs3[0] (Doutputs3[0] = softmax(Z0)+bias3[0]) * Doutputs3[0]/DZ[0] * DZ[0]/Dweights3[0][0] Z[0] = a0*weights3[0][0]+a0*weights3[0][1]+...+bias[0], \n",
    "#a0 étant l'output du premier neurone de la couche précédente et bias3 le biais du premier neurone.\n",
    "#Ainsi MSE=(1/10)*SOMME((outputs3-y_train[0])**2) = 1/10 * ((outputs3[0]-y_train[0][0])²+(outputs3[0]-y_train[0][0])²+...) donc DMSE/Doutputs3[0] = 1/10 * 2 * 1 * (outputs3[0]-y_train[0][0])\n",
    "#Doutputs3[0]/DZ[0] = Dsoftmax(Z0)/DZ0 -> softmax(Z0) = exp(Z0)/SOMME0->n(exp(Zn)) Dsoftmax(Z0)/DZ0 est de la forme (U/V)' donc = (exp(Z0)*(SOMME)-exp(Z0)²)/SOMME² = exp(Z0)*(SOMME-exp(Z0))/SOMME²\n",
    "#sachant que outputs3[0]=exp(Z0)/SOMME alors Dsoftmax(Z0)/DZ0= outputs3[0]*((SOMME/SOMME)-(exp(Z0)/SOMME)) = outputs3[0]*(1-outputs3[0]) = outputes3[0] - outputs3[0]**2\n",
    "#enfin, DZ0/Dweights3[0][0]= D(outputs2[0]*weights3[0][0]+outputs2[0]*weights3[0][1]...)/Dweights3[0][0] = outputs2[0]\n",
    "#en conclusion: DMSE/Dweights3[0][0]=1/5 * (outputs3[0]-y_train[0][0]) * (outputs3[0]-outputs3[0]**2) * outputs2[0]\n",
    "#et pour actualiser weights3[0][1] : 1/5 * (outputs3[0]-y_train[0][0]) * (outputs3[0]-outputs3[0]**2) * outputs2[1] jusqu'à outputs2[83] pour weights3[0][83]\n",
    "#pour weights3[1][0] : 1/5 * (outputs3[1]-y_train[0][1]) * (outputs3[1]-outputs3[1]**2) * outputs2[0] etc...\n",
    "#pour weights2[0][0]: (1/5 * (outputs3[1]-y_train[0][1]) * (outputs3[1]-outputs3[1]**2)+1/5 * (outputs3[2]-y_train[0][2]) * (outputs3[2]-outputs3[2]**2)...)* Da/Dz-1\n",
    "\n",
    "def backPropagation(flat,outputs1,outputs2,outputs3,weights1,weights2,weights3,bias1,bias2,bias3,alpha=0.001,f1=\"ReLU\",f2=\"ReLU\"):\n",
    "    gradSoft=np.zeros(outputs3[0].shape[0])\n",
    "    gradB3=np.zeros(outputs3[0].shape[0])\n",
    "    gradB2=np.zeros(outputs2[0].shape[0])\n",
    "    gradB1=np.zeros(outputs1[0].shape[0])\n",
    "    gradW3=np.zeros(weights3.shape)\n",
    "    gradWeights3=np.zeros(weights3.shape)\n",
    "    gradW2=np.zeros(weights2.shape)\n",
    "    gradWeights2=np.zeros(weights2.shape)\n",
    "    gradW1=np.zeros(weights1.shape)\n",
    "    gradWeights1=np.zeros(weights1.shape)\n",
    "    for img in range(len(outputs3)):\n",
    "        gradA2=np.zeros(outputs2[img].shape[0])\n",
    "        gradA1=np.zeros(outputs1[img].shape[0])\n",
    "        gradMSE=(2/len(outputs3[img]))*(outputs3[img]-y_train[0])\n",
    "        gradSoft=gradMSE*outputs3[img]*(1-outputs3[img])\n",
    "        for out3 in range(len(outputs3[img])): #chaque neurone de sortie (10)\n",
    "            for out2 in range(len(outputs2[img])): #chaque output précédent\n",
    "                gradWeights3[out3][out2]=gradSoft[out3]*outputs2[img][out2]\n",
    "        \n",
    "        for out2 in range(len(outputs2[img])):\n",
    "            for out3 in range(len(outputs3[img])):\n",
    "                if f2==\"ReLU\":\n",
    "                    if outputs2[img][out2]>0:\n",
    "                        gradA2[out2]+=gradSoft[out3]*weights3[out3][out2]\n",
    "                    else:\n",
    "                        gradA2[out2]+=0\n",
    "        \n",
    "        for out2 in range(len(outputs2[img])):\n",
    "            for out1 in range(len(outputs1[img])):\n",
    "                gradWeights2[out2][out1]=gradA2[out2]*outputs1[img][out1]\n",
    "        \n",
    "        for out1 in range(len(outputs1[img])):\n",
    "            for out2 in range(len(outputs2[img])):\n",
    "                if f1==\"ReLU\":\n",
    "                    if outputs1[img][out1]>0:\n",
    "                        gradA1[out1]+=gradA2[out2]*weights2[out2][out1]\n",
    "                    else:\n",
    "                        gradA1[out1]+=0\n",
    "        \n",
    "        for out1 in range(len(outputs1[img])):\n",
    "            for fla in range(len(flat[img])):\n",
    "                gradWeights1[out1][fla]=gradA1[out1]*flat[img][fla]\n",
    "\n",
    "        gradW1+=gradWeights1/len(outputs3)\n",
    "        gradB1+=gradA1/len(outputs3)\n",
    "        gradW2+=gradWeights2/len(outputs3)\n",
    "        gradB2+=gradA2/len(outputs3)\n",
    "        gradB3+=gradSoft/len(outputs3)\n",
    "        gradW3+=gradWeights3/len(outputs3)\n",
    "\n",
    "    newWeights3=weights3-alpha*gradW3\n",
    "    newWeights2=weights2-alpha*gradW2\n",
    "    newWeights1=weights1-alpha*gradW1\n",
    "    newBias3=bias3-alpha*gradB3\n",
    "    newBias2=bias2-alpha*gradB2\n",
    "    newBias1=bias1-alpha*gradB1\n",
    "\n",
    "    return newWeights1,newBias1,newWeights2,newBias2,newWeights3,newBias3"
   ]
  },
  {
   "cell_type": "code",
   "execution_count": null,
   "id": "956fb65f",
   "metadata": {},
   "outputs": [],
   "source": [
    "newWeights1,newBias1,newWeights2,newBias2,newWeights3,newBias3=backPropagation(flat,outputs1,outputs2,outputs3,weights1,weights2,weights3,bias1,bias2,bias3,alpha=0.001,f1=\"ReLU\",f2=\"ReLU\")"
   ]
  },
  {
   "cell_type": "code",
   "execution_count": 35,
   "id": "4ff19795",
   "metadata": {},
   "outputs": [
    {
     "name": "stdout",
     "output_type": "stream",
     "text": [
      "Old weight : 0.07393104184753962 , new : 0.07393104246500314\n"
     ]
    }
   ],
   "source": [
    "print(f\"Old weight : {weights1[0][0]} , new : {newWeights1[0][0]}\")"
   ]
  },
  {
   "cell_type": "code",
   "execution_count": 197,
   "id": "80313caa",
   "metadata": {},
   "outputs": [],
   "source": [
    "def training(nb_epoch,inputs,y_label,weights1,bias1,weights2,bias2,weights3,bias3,f1,f2):\n",
    "    for e in range(nb_epoch-1):\n",
    "        outputs1,outputs2,outputs3=forward(inputs,weights1,bias1,weights2,bias2,weights3,bias3,f1,f2)\n",
    "        MSE=[]\n",
    "        for out in range(len(outputs3)):\n",
    "            MSE.append((np.sum((outputs3[out]-y_label[out])**2))/10)\n",
    "        print(f\"epoch : {e+1} : {np.sum(MSE)}\")\n",
    "        weights1,bias1,weights2,bias2,weights3,bias3=backPropagation(inputs,outputs1,outputs2,outputs3,weights1,weights2,weights3,bias1,bias2,bias3,alpha=0.001,f1=\"ReLU\",f2=\"ReLU\")\n",
    "\n",
    "    outputs1,outputs2,outputs3=forward(inputs,weights1,bias1,weights2,bias2,weights3,bias3,f1,f2)\n",
    "    MSE=[]\n",
    "    for out in range(len(outputs3)):\n",
    "        MSE.append((np.sum((outputs3[out]-y_label[out])**2))/10)\n",
    "    print(f\"Last MSE : {np.sum(MSE)}\")\n",
    "    return weights1,bias1,weights2,bias2,weights3,bias3\n"
   ]
  },
  {
   "cell_type": "code",
   "execution_count": 93,
   "id": "97a159c6",
   "metadata": {},
   "outputs": [
    {
     "name": "stdout",
     "output_type": "stream",
     "text": [
      "[0. 0. 0. 0. 0. 0. 0. 0. 0. 0.]\n",
      "[1. 0. 0. 0. 0. 0. 0. 0. 0. 0.] [1. 0. 0. 0. 0. 0. 0. 0. 0. 0.]\n",
      "[0. 1. 0. 0. 0. 0. 0. 0. 0. 0.] [0. 1. 0. 0. 0. 0. 0. 0. 0. 0.]\n",
      "0.0\n"
     ]
    }
   ],
   "source": [
    "testInputs=np.zeros((100,10))\n",
    "y_testput=np.zeros((100,10))\n",
    "print(testInputs[0])\n",
    "for i in range(100):\n",
    "    testInputs[i][i%10]=1\n",
    "    y_testput[i][i%10]=1\n",
    "print(testInputs[0],y_testput[0])\n",
    "print(testInputs[1],y_testput[1])\n",
    "MSE=[]\n",
    "for out in range(len(testInputs)):\n",
    "    MSE.append((np.sum((testInputs[out]-y_testput[out])**2))/10)\n",
    "print(np.sum(MSE))"
   ]
  },
  {
   "cell_type": "code",
   "execution_count": null,
   "id": "919cba1c",
   "metadata": {},
   "outputs": [
    {
     "name": "stdout",
     "output_type": "stream",
     "text": [
      "[1. 0. 0. 0. 0. 0. 0. 0. 0. 0.]\n"
     ]
    }
   ],
   "source": [
    "print(testInputs[0])"
   ]
  },
  {
   "cell_type": "code",
   "execution_count": 195,
   "id": "f694c7d5",
   "metadata": {},
   "outputs": [],
   "source": [
    "fixedtestweights1,fixedtestbias1=createRandomWeights(10,128),createRandomBias(128)\n",
    "fixedtestweights2,fixedtestbias2=createRandomWeights(128,84),createRandomBias(84)\n",
    "fixedtestweights3,fixedtestbias3=createRandomWeights(84,10),createRandomBias(10)"
   ]
  },
  {
   "cell_type": "code",
   "execution_count": 207,
   "id": "af317f72",
   "metadata": {},
   "outputs": [
    {
     "name": "stdout",
     "output_type": "stream",
     "text": [
      "epoch : 1 : 0.47823213554743416\n",
      "epoch : 2 : 0.4780985943883376\n",
      "epoch : 3 : 0.47796506982156717\n",
      "epoch : 4 : 0.4778315603644379\n",
      "epoch : 5 : 0.47769806454029184\n",
      "epoch : 6 : 0.4775645808784783\n",
      "epoch : 7 : 0.47743110791433435\n",
      "epoch : 8 : 0.47729764418916776\n",
      "epoch : 9 : 0.4771641882502386\n",
      "epoch : 10 : 0.4770307386507442\n",
      "epoch : 11 : 0.4768972939498034\n",
      "epoch : 12 : 0.476763852712442\n",
      "epoch : 13 : 0.4766304135095798\n",
      "epoch : 14 : 0.47649697491801823\n",
      "epoch : 15 : 0.4763635355204285\n",
      "epoch : 16 : 0.47623009390534166\n",
      "epoch : 17 : 0.47609664866713886\n",
      "epoch : 18 : 0.4759631984060429\n",
      "epoch : 19 : 0.47582974172811104\n",
      "epoch : 20 : 0.4756962772452282\n",
      "epoch : 21 : 0.47556280357510194\n",
      "epoch : 22 : 0.47542931934125787\n",
      "epoch : 23 : 0.4752958231730366\n",
      "epoch : 24 : 0.47516231370559114\n",
      "epoch : 25 : 0.47502878957988603\n",
      "epoch : 26 : 0.47489524944269706\n",
      "epoch : 27 : 0.4747616919466125\n",
      "epoch : 28 : 0.47462811575003494\n",
      "epoch : 29 : 0.4744945195171847\n",
      "epoch : 30 : 0.4743609019181041\n",
      "epoch : 31 : 0.47422726162866263\n",
      "epoch : 32 : 0.47409359733056433\n",
      "epoch : 33 : 0.4739599077113548\n",
      "epoch : 34 : 0.47382619146443045\n",
      "epoch : 35 : 0.47369244728904847\n",
      "epoch : 36 : 0.47355867389033834\n",
      "epoch : 37 : 0.4734248699793143\n",
      "epoch : 38 : 0.47329103427288904\n",
      "epoch : 39 : 0.47315716549388837\n",
      "epoch : 40 : 0.47302326237106795\n",
      "epoch : 41 : 0.47288932363913044\n",
      "epoch : 42 : 0.47275534803874397\n",
      "epoch : 43 : 0.4726213343165625\n",
      "epoch : 44 : 0.47248728122524697\n",
      "epoch : 45 : 0.4723531875234881\n",
      "epoch : 46 : 0.4722190519760293\n",
      "epoch : 47 : 0.4720848733536934\n",
      "epoch : 48 : 0.47195065043340806\n",
      "epoch : 49 : 0.4718163819982341\n",
      "epoch : 50 : 0.4716820668373948\n",
      "epoch : 51 : 0.47154770374630633\n",
      "epoch : 52 : 0.471413064138211\n",
      "epoch : 53 : 0.47127700624802404\n",
      "epoch : 54 : 0.47114089623653327\n",
      "epoch : 55 : 0.4710047328804394\n",
      "epoch : 56 : 0.47086851496334386\n",
      "epoch : 57 : 0.47073224127579016\n",
      "epoch : 58 : 0.47059591061530714\n",
      "epoch : 59 : 0.47045952178645456\n",
      "epoch : 60 : 0.4703230736008691\n",
      "epoch : 61 : 0.47018656487731336\n",
      "epoch : 62 : 0.4700499944417253\n",
      "epoch : 63 : 0.4699133611272702\n",
      "epoch : 64 : 0.4697766637743944\n",
      "epoch : 65 : 0.4696399012308796\n",
      "epoch : 66 : 0.46950307235190103\n",
      "epoch : 67 : 0.469366176000085\n",
      "epoch : 68 : 0.46922921104557\n",
      "epoch : 69 : 0.46909217636606904\n",
      "epoch : 70 : 0.46895507084693344\n",
      "epoch : 71 : 0.4688178933812188\n",
      "epoch : 72 : 0.4686806428697535\n",
      "epoch : 73 : 0.46854331822120776\n",
      "epoch : 74 : 0.4684059183521654\n",
      "epoch : 75 : 0.4682684421871972\n",
      "epoch : 76 : 0.46813088865893726\n",
      "epoch : 77 : 0.46799325670815967\n",
      "epoch : 78 : 0.46785554528385787\n",
      "epoch : 79 : 0.4677177533433269\n",
      "epoch : 80 : 0.4675798798522459\n",
      "epoch : 81 : 0.4674419237847646\n",
      "epoch : 82 : 0.4673038841235905\n",
      "epoch : 83 : 0.4671657598600779\n",
      "epoch : 84 : 0.4670275499943211\n",
      "epoch : 85 : 0.4668892535352472\n",
      "epoch : 86 : 0.46675086950071243\n",
      "epoch : 87 : 0.4666123969176006\n",
      "epoch : 88 : 0.46647383482192384\n",
      "epoch : 89 : 0.46633518225892434\n",
      "epoch : 90 : 0.46619643828318014\n",
      "epoch : 91 : 0.4660576019587117\n",
      "epoch : 92 : 0.4659186723590921\n",
      "epoch : 93 : 0.4657796485675579\n",
      "epoch : 94 : 0.46564052967712377\n",
      "epoch : 95 : 0.46550131479069906\n",
      "epoch : 96 : 0.46536200302120606\n",
      "epoch : 97 : 0.4652225934917018\n",
      "epoch : 98 : 0.46508308533550125\n",
      "epoch : 99 : 0.46494347769630356\n",
      "epoch : 100 : 0.4648037697283208\n",
      "epoch : 101 : 0.4646639605964088\n",
      "epoch : 102 : 0.46452404947620063\n",
      "epoch : 103 : 0.46438403555424285\n",
      "epoch : 104 : 0.4642439180281338\n",
      "epoch : 105 : 0.4641036961066657\n",
      "epoch : 106 : 0.46396336900996743\n",
      "epoch : 107 : 0.46382293596965163\n",
      "epoch : 108 : 0.463682396228964\n",
      "epoch : 109 : 0.4635417490429343\n",
      "epoch : 110 : 0.4634009936785317\n",
      "epoch : 111 : 0.46326012941482175\n",
      "epoch : 112 : 0.46311915554312594\n",
      "epoch : 113 : 0.4629780713671853\n",
      "epoch : 114 : 0.46283687620332503\n",
      "epoch : 115 : 0.46269556938062384\n",
      "epoch : 116 : 0.4625541502410844\n",
      "epoch : 117 : 0.4624126181398079\n",
      "epoch : 118 : 0.4622709724451707\n",
      "epoch : 119 : 0.4621292125390047\n",
      "epoch : 120 : 0.4619873378167798\n",
      "epoch : 121 : 0.46184534768779006\n",
      "epoch : 122 : 0.4617032415753418\n",
      "epoch : 123 : 0.46156101891694684\n",
      "epoch : 124 : 0.46141867916451546\n",
      "epoch : 125 : 0.4612762217845559\n",
      "epoch : 126 : 0.46113364625837483\n",
      "epoch : 127 : 0.460990952082281\n",
      "epoch : 128 : 0.4608481387677933\n",
      "epoch : 129 : 0.46070520584185026\n",
      "epoch : 130 : 0.46056215284702423\n",
      "epoch : 131 : 0.4604189793417379\n",
      "epoch : 132 : 0.46027568490048426\n",
      "epoch : 133 : 0.46013226911404964\n",
      "epoch : 134 : 0.4599887315897406\n",
      "epoch : 135 : 0.45984507195161284\n",
      "epoch : 136 : 0.459701289840705\n",
      "epoch : 137 : 0.4595573849152749\n",
      "epoch : 138 : 0.45941335685103873\n",
      "epoch : 139 : 0.45926920534141424\n",
      "epoch : 140 : 0.45912493009776767\n",
      "epoch : 141 : 0.45898053084966295\n",
      "epoch : 142 : 0.458836007345115\n",
      "epoch : 143 : 0.45869135935084665\n",
      "epoch : 144 : 0.4585465866525485\n",
      "epoch : 145 : 0.45840168905514245\n",
      "epoch : 146 : 0.4582566663830491\n",
      "epoch : 147 : 0.45811151848045795\n",
      "epoch : 148 : 0.4579662452116013\n",
      "epoch : 149 : 0.45782084646103227\n",
      "epoch : 150 : 0.45767532213390566\n",
      "epoch : 151 : 0.4575296721562626\n",
      "epoch : 152 : 0.457383896475319\n",
      "epoch : 153 : 0.457237995059757\n",
      "epoch : 154 : 0.4570919679000207\n",
      "epoch : 155 : 0.4569458150086151\n",
      "epoch : 156 : 0.4567995364204086\n",
      "epoch : 157 : 0.45665313219293924\n",
      "epoch : 158 : 0.4565066024067248\n",
      "epoch : 159 : 0.4563599471655759\n",
      "epoch : 160 : 0.45621316659691347\n",
      "epoch : 161 : 0.45606626085208923\n",
      "epoch : 162 : 0.45591923010671065\n",
      "epoch : 163 : 0.4557720745609679\n",
      "epoch : 164 : 0.455624794439967\n",
      "epoch : 165 : 0.4554773899940642\n",
      "epoch : 166 : 0.4553298614992054\n",
      "epoch : 167 : 0.45518220925726843\n",
      "epoch : 168 : 0.45503443359641016\n",
      "epoch : 169 : 0.4548865348714156\n",
      "epoch : 170 : 0.45473851346405203\n",
      "epoch : 171 : 0.45459036978342626\n",
      "epoch : 172 : 0.4544421042663451\n",
      "epoch : 173 : 0.45429371737768026\n",
      "epoch : 174 : 0.4541452096107361\n",
      "epoch : 175 : 0.4539965814876219\n",
      "epoch : 176 : 0.453847833559626\n",
      "epoch : 177 : 0.453698966407596\n",
      "epoch : 178 : 0.45354998064231994\n",
      "epoch : 179 : 0.45340087690491293\n",
      "epoch : 180 : 0.4532516558672065\n",
      "epoch : 181 : 0.4531023182321408\n",
      "epoch : 182 : 0.45295286473416174\n",
      "epoch : 183 : 0.45280329613962034\n",
      "epoch : 184 : 0.4526536132471759\n",
      "epoch : 185 : 0.45250381688820285\n",
      "epoch : 186 : 0.4523539079272002\n",
      "epoch : 187 : 0.45220388726220523\n",
      "epoch : 188 : 0.4520537558252095\n",
      "epoch : 189 : 0.45190351458257877\n",
      "epoch : 190 : 0.45175316453547587\n",
      "epoch : 191 : 0.4516027067202868\n",
      "epoch : 192 : 0.4514521422090497\n",
      "epoch : 193 : 0.45130147210988736\n",
      "epoch : 194 : 0.45115069756744197\n",
      "epoch : 195 : 0.4509998197633137\n",
      "epoch : 196 : 0.4508488399165016\n",
      "epoch : 197 : 0.4506977592838474\n",
      "epoch : 198 : 0.4505465791604826\n",
      "epoch : 199 : 0.450395300880277\n",
      "epoch : 200 : 0.4502439258162914\n",
      "epoch : 201 : 0.45009245538123266\n",
      "epoch : 202 : 0.4499408910279097\n",
      "epoch : 203 : 0.4497892342496934\n",
      "epoch : 204 : 0.44963748658097963\n",
      "epoch : 205 : 0.44948564959765147\n",
      "epoch : 206 : 0.4493337249175473\n",
      "epoch : 207 : 0.44918171420092845\n",
      "epoch : 208 : 0.44902961915094985\n",
      "epoch : 209 : 0.4488774415141323\n",
      "epoch : 210 : 0.4487251830808369\n",
      "epoch : 211 : 0.448572845685741\n",
      "epoch : 212 : 0.44842043120831565\n",
      "epoch : 213 : 0.4482679415733043\n",
      "epoch : 214 : 0.4481153787512041\n",
      "epoch : 215 : 0.4479627447587467\n",
      "epoch : 216 : 0.4478100416593819\n",
      "epoch : 217 : 0.44765727156376073\n",
      "epoch : 218 : 0.44750443663022144\n",
      "epoch : 219 : 0.4473515390652739\n",
      "epoch : 220 : 0.44719858112408656\n",
      "epoch : 221 : 0.44704556511097293\n",
      "epoch : 222 : 0.4468924933798789\n",
      "epoch : 223 : 0.4467393683348699\n",
      "epoch : 224 : 0.44658619243061826\n",
      "epoch : 225 : 0.44643296817289063\n",
      "epoch : 226 : 0.4462796981190349\n",
      "epoch : 227 : 0.44612638487846695\n",
      "epoch : 228 : 0.44597303111315667\n",
      "epoch : 229 : 0.44581963953811315\n",
      "epoch : 230 : 0.4456662129218691\n",
      "epoch : 231 : 0.44551275408696384\n",
      "epoch : 232 : 0.44535926591042607\n",
      "epoch : 233 : 0.44520575132425266\n",
      "epoch : 234 : 0.4450522133158896\n",
      "epoch : 235 : 0.4448986549287068\n",
      "epoch : 236 : 0.4447450792624741\n",
      "epoch : 237 : 0.444591489473833\n",
      "epoch : 238 : 0.44443788877676743\n",
      "epoch : 239 : 0.4442842804430699\n",
      "epoch : 240 : 0.4441306678028066\n",
      "epoch : 241 : 0.4439770542447778\n",
      "epoch : 242 : 0.4438234432169759\n",
      "epoch : 243 : 0.44366983822703926\n",
      "epoch : 244 : 0.44351624284270197\n",
      "epoch : 245 : 0.44336266069223995\n",
      "epoch : 246 : 0.4432090954649125\n",
      "epoch : 247 : 0.4430555509113987\n",
      "epoch : 248 : 0.4429020308442297\n",
      "epoch : 249 : 0.44274853913821516\n",
      "epoch : 250 : 0.4425950797308643\n",
      "epoch : 251 : 0.44244165662280155\n",
      "epoch : 252 : 0.44228827387817593\n",
      "epoch : 253 : 0.4421349356250638\n",
      "epoch : 254 : 0.4419816460558654\n",
      "epoch : 255 : 0.44182840942769497\n",
      "epoch : 256 : 0.4416752300627621\n",
      "epoch : 257 : 0.44152211234874716\n",
      "epoch : 258 : 0.44136906073916815\n",
      "epoch : 259 : 0.4412160797537394\n",
      "epoch : 260 : 0.4410631739787217\n",
      "epoch : 261 : 0.44091034806726415\n",
      "epoch : 262 : 0.4407576067397367\n",
      "epoch : 263 : 0.4406049547840524\n",
      "epoch : 264 : 0.4404523970559815\n",
      "epoch : 265 : 0.44029993847945353\n",
      "epoch : 266 : 0.4401475840468503\n",
      "epoch : 267 : 0.43999533881928754\n",
      "epoch : 268 : 0.4398432079268855\n",
      "epoch : 269 : 0.43969119656902717\n",
      "epoch : 270 : 0.43953931001460633\n",
      "epoch : 271 : 0.43938755360226134\n",
      "epoch : 272 : 0.4392359327405979\n",
      "epoch : 273 : 0.43908445290839765\n",
      "epoch : 274 : 0.43893311965481413\n",
      "epoch : 275 : 0.4387819385995543\n",
      "epoch : 276 : 0.43863091543304655\n",
      "epoch : 277 : 0.4384800559165939\n",
      "epoch : 278 : 0.4383293658825121\n",
      "epoch : 279 : 0.4381788512342524\n",
      "epoch : 280 : 0.438028517946509\n",
      "epoch : 281 : 0.4378783720653102\n",
      "epoch : 282 : 0.4377284197080926\n",
      "epoch : 283 : 0.4375786670637597\n",
      "epoch : 284 : 0.437429120392721\n",
      "epoch : 285 : 0.4372797860269158\n",
      "epoch : 286 : 0.43713067036981734\n",
      "epoch : 287 : 0.43698177989641895\n",
      "epoch : 288 : 0.4368331211532015\n",
      "epoch : 289 : 0.43668470075808136\n",
      "epoch : 290 : 0.43653652540033805\n",
      "epoch : 291 : 0.4363886018405232\n",
      "epoch : 292 : 0.43624093691034743\n",
      "epoch : 293 : 0.4360935375125479\n",
      "epoch : 294 : 0.435946410620733\n",
      "epoch : 295 : 0.4357995632792063\n",
      "epoch : 296 : 0.4356530026027689\n",
      "epoch : 297 : 0.43550673577649757\n",
      "epoch : 298 : 0.4353607700555018\n",
      "epoch : 299 : 0.4352151127646564\n",
      "epoch : 300 : 0.43506977129831176\n",
      "epoch : 301 : 0.43492475311997814\n",
      "epoch : 302 : 0.4347800657619879\n",
      "epoch : 303 : 0.4346357168251304\n",
      "epoch : 304 : 0.43449171397826464\n",
      "epoch : 305 : 0.4343480649579038\n",
      "epoch : 306 : 0.4342047775677759\n",
      "epoch : 307 : 0.43406185967835664\n",
      "epoch : 308 : 0.4339193192263766\n",
      "epoch : 309 : 0.43377716421430257\n",
      "epoch : 310 : 0.43363540270978906\n",
      "epoch : 311 : 0.4334940428451045\n",
      "epoch : 312 : 0.43335309281652923\n",
      "epoch : 313 : 0.43321256088372423\n",
      "epoch : 314 : 0.4330724553690727\n",
      "epoch : 315 : 0.4329327846569926\n",
      "epoch : 316 : 0.43279355719321927\n",
      "epoch : 317 : 0.4326547814840604\n",
      "epoch : 318 : 0.4325164660956196\n",
      "epoch : 319 : 0.43237861965299196\n",
      "epoch : 320 : 0.4322412508394284\n",
      "epoch : 321 : 0.4321043683954704\n",
      "epoch : 322 : 0.431967981118054\n",
      "epoch : 323 : 0.4318320978595832\n",
      "epoch : 324 : 0.43169672752697275\n",
      "epoch : 325 : 0.43156187908065946\n",
      "epoch : 326 : 0.4314275615335831\n",
      "epoch : 327 : 0.43129378395013535\n",
      "epoch : 328 : 0.431160555445078\n",
      "epoch : 329 : 0.43102788518242824\n",
      "epoch : 330 : 0.4308957823743146\n",
      "epoch : 331 : 0.4307642562797991\n",
      "epoch : 332 : 0.4306333162036687\n",
      "epoch : 333 : 0.43050297149519445\n",
      "epoch : 334 : 0.4303732315468599\n",
      "epoch : 335 : 0.4302441057930556\n",
      "epoch : 336 : 0.43011560370874474\n",
      "epoch : 337 : 0.42998773480809355\n",
      "epoch : 338 : 0.42986050864307296\n",
      "epoch : 339 : 0.4297339348020268\n",
      "epoch : 340 : 0.4296080229082095\n",
      "epoch : 341 : 0.42948278261829137\n",
      "epoch : 342 : 0.4293582236208332\n",
      "epoch : 343 : 0.4292343556347294\n",
      "epoch : 344 : 0.4291111884076206\n",
      "epoch : 345 : 0.4289887317142744\n",
      "epoch : 346 : 0.4288669953549368\n",
      "epoch : 347 : 0.4287459891536528\n",
      "epoch : 348 : 0.428625722956556\n",
      "epoch : 349 : 0.42850620663012995\n",
      "epoch : 350 : 0.4283874500594389\n",
      "epoch : 351 : 0.4282694631463303\n",
      "epoch : 352 : 0.428152255807607\n",
      "epoch : 353 : 0.42803583797317313\n",
      "epoch : 354 : 0.42792021958415005\n",
      "epoch : 355 : 0.4278054105909658\n",
      "epoch : 356 : 0.42769142095141716\n",
      "epoch : 357 : 0.4275782606287051\n",
      "epoch : 358 : 0.4274659395894437\n",
      "epoch : 359 : 0.4273544678016444\n",
      "epoch : 360 : 0.42724385523267383\n",
      "epoch : 361 : 0.4271341118471884\n",
      "epoch : 362 : 0.42702524760504434\n",
      "epoch : 363 : 0.42691727245918415\n",
      "epoch : 364 : 0.4268101963535018\n",
      "epoch : 365 : 0.4267040292206842\n",
      "epoch : 366 : 0.42659878098003223\n",
      "epoch : 367 : 0.42649446153526244\n",
      "epoch : 368 : 0.42639108077228627\n",
      "epoch : 369 : 0.4262886485569731\n",
      "epoch : 370 : 0.42618717473289236\n",
      "epoch : 371 : 0.42608666911904114\n",
      "epoch : 372 : 0.4259871415075523\n",
      "epoch : 373 : 0.4258886016613895\n",
      "epoch : 374 : 0.4257910593120251\n",
      "epoch : 375 : 0.425694524157106\n",
      "epoch : 376 : 0.42559900585810495\n",
      "epoch : 377 : 0.4255045140379609\n",
      "epoch : 378 : 0.42541105827870784\n",
      "epoch : 379 : 0.42531864811909337\n",
      "epoch : 380 : 0.42522729305218826\n",
      "epoch : 381 : 0.42513700252298814\n",
      "epoch : 382 : 0.42504778592600806\n",
      "epoch : 383 : 0.4249596526028704\n",
      "epoch : 384 : 0.4248726118398892\n",
      "epoch : 385 : 0.4247866728656492\n",
      "epoch : 386 : 0.42470184484858314\n",
      "epoch : 387 : 0.4246181368945476\n",
      "epoch : 388 : 0.42453555804439724\n",
      "epoch : 389 : 0.4244541172715605\n",
      "epoch : 390 : 0.4243738234796176\n",
      "epoch : 391 : 0.4242946854998809\n",
      "epoch : 392 : 0.4242167120889789\n",
      "epoch : 393 : 0.42413991192644723\n",
      "epoch : 394 : 0.4240642936123249\n",
      "epoch : 395 : 0.4239888358658054\n",
      "epoch : 396 : 0.42391430362451926\n",
      "epoch : 397 : 0.42384097728280057\n",
      "epoch : 398 : 0.4237688652790549\n",
      "epoch : 399 : 0.42369797596050524\n",
      "Last MSE : 0.42362831758079306\n"
     ]
    }
   ],
   "source": [
    "inp=testInputs[:4]\n",
    "testweights1,testbias1,testweights2,testbias2,testweights3,testbias3=training(400,inp,y_testput,fixedtestweights1,fixedtestbias1,fixedtestweights2,fixedtestbias2,fixedtestweights3,fixedtestbias3,f1,f2)\n",
    "testoutputs1,testoutputs2,testoutputs3=forward(testInputs,testweights1,testbias1,testweights2,testbias2,testweights3,testbias3,f1,f2)"
   ]
  },
  {
   "cell_type": "code",
   "execution_count": 205,
   "id": "d5001b09",
   "metadata": {},
   "outputs": [
    {
     "name": "stdout",
     "output_type": "stream",
     "text": [
      "[0.01907207 0.36789635 0.00663615 0.01714597 0.00529372 0.17743199\n",
      " 0.00412876 0.19102508 0.08186727 0.12950263]\n",
      "[0.01635277 0.27520553 0.00834847 0.01253903 0.00564357 0.19505236\n",
      " 0.00433768 0.25465981 0.08271057 0.14515021]\n"
     ]
    }
   ],
   "source": [
    "print(testoutputs3[0])\n",
    "print(testoutputs3[1])"
   ]
  },
  {
   "cell_type": "code",
   "execution_count": 198,
   "id": "bd32e5df",
   "metadata": {},
   "outputs": [
    {
     "name": "stdout",
     "output_type": "stream",
     "text": [
      "Pred : 1, reel : 0\n",
      "Pred : 1, reel : 1\n",
      "Pred : 1, reel : 2\n",
      "Pred : 1, reel : 3\n",
      "1\n"
     ]
    }
   ],
   "source": [
    "true=0\n",
    "for out in range(len(inp)):\n",
    "    print(f\"Pred : {np.argmax(testoutputs3[out])}, reel : {np.argmax(y_testput[out])}\")\n",
    "    if np.argmax(testoutputs3[out])==np.argmax(y_testput[out]):\n",
    "        true+=1\n",
    "print(true)"
   ]
  }
 ],
 "metadata": {
  "kernelspec": {
   "display_name": "base",
   "language": "python",
   "name": "python3"
  },
  "language_info": {
   "codemirror_mode": {
    "name": "ipython",
    "version": 3
   },
   "file_extension": ".py",
   "mimetype": "text/x-python",
   "name": "python",
   "nbconvert_exporter": "python",
   "pygments_lexer": "ipython3",
   "version": "3.12.4"
  }
 },
 "nbformat": 4,
 "nbformat_minor": 5
}
