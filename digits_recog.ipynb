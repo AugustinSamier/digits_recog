{
 "cells": [
  {
   "cell_type": "code",
   "execution_count": 1,
   "id": "423aeadf",
   "metadata": {},
   "outputs": [],
   "source": [
    "import os\n",
    "import numpy as np\n",
    "import pandas as pd\n",
    "import matplotlib.pyplot as plt"
   ]
  },
  {
   "cell_type": "code",
   "execution_count": 2,
   "id": "c2bfbd56",
   "metadata": {},
   "outputs": [
    {
     "name": "stdout",
     "output_type": "stream",
     "text": [
      "   label  pixel0  pixel1  pixel2  pixel3  pixel4  pixel5  pixel6  pixel7  \\\n",
      "0      1       0       0       0       0       0       0       0       0   \n",
      "1      0       0       0       0       0       0       0       0       0   \n",
      "2      1       0       0       0       0       0       0       0       0   \n",
      "3      4       0       0       0       0       0       0       0       0   \n",
      "4      0       0       0       0       0       0       0       0       0   \n",
      "\n",
      "   pixel8  ...  pixel774  pixel775  pixel776  pixel777  pixel778  pixel779  \\\n",
      "0       0  ...         0         0         0         0         0         0   \n",
      "1       0  ...         0         0         0         0         0         0   \n",
      "2       0  ...         0         0         0         0         0         0   \n",
      "3       0  ...         0         0         0         0         0         0   \n",
      "4       0  ...         0         0         0         0         0         0   \n",
      "\n",
      "   pixel780  pixel781  pixel782  pixel783  \n",
      "0         0         0         0         0  \n",
      "1         0         0         0         0  \n",
      "2         0         0         0         0  \n",
      "3         0         0         0         0  \n",
      "4         0         0         0         0  \n",
      "\n",
      "[5 rows x 785 columns]\n"
     ]
    }
   ],
   "source": [
    "trainDf=pd.read_csv(\"train.csv\")\n",
    "print(trainDf.head())"
   ]
  },
  {
   "cell_type": "code",
   "execution_count": 3,
   "id": "fcd59e04",
   "metadata": {},
   "outputs": [
    {
     "name": "stdout",
     "output_type": "stream",
     "text": [
      "(42000, 785)\n"
     ]
    }
   ],
   "source": [
    "print(trainDf.shape)"
   ]
  },
  {
   "cell_type": "code",
   "execution_count": 4,
   "id": "be20b5b1",
   "metadata": {},
   "outputs": [
    {
     "name": "stdout",
     "output_type": "stream",
     "text": [
      "Size of y_train : 42000\n",
      "Size of X_train : (42000, 28, 28)\n",
      "\n"
     ]
    }
   ],
   "source": [
    "y_train=trainDf[\"label\"].values\n",
    "X_train=trainDf.iloc[:,1:].values.reshape(-1,28,28)\n",
    "X_train=X_train.astype(np.float32)/255.0\n",
    "print(f\"Size of y_train : {len(y_train)}\\nSize of X_train : {X_train.shape}\\n\")"
   ]
  },
  {
   "cell_type": "code",
   "execution_count": 5,
   "id": "70e1a84a",
   "metadata": {},
   "outputs": [
    {
     "data": {
      "image/png": "[encoded data removed]",
      "text/plain": [
       "<Figure size 640x480 with 1 Axes>"
      ]
     },
     "metadata": {},
     "output_type": "display_data"
    }
   ],
   "source": [
    "plt.imshow(X_train[0],cmap=\"gray\")\n",
    "plt.title(\"Premier sample\")\n",
    "plt.axis(\"off\")\n",
    "plt.show()"
   ]
  },
  {
   "cell_type": "code",
   "execution_count": 101,
   "id": "ef179dae",
   "metadata": {},
   "outputs": [],
   "source": [
    "sobelX=np.array([\n",
    "    [-1,0,1],\n",
    "    [-2,0,2],\n",
    "    [-1,0,1]\n",
    "]) #detection de bords horizontaux\n",
    "\n",
    "sobelY=np.array([\n",
    "    [-1,-2,-1],\n",
    "    [0,0,0],\n",
    "    [1,2,1]\n",
    "]) #detection de bords verticaux\n",
    "\n",
    "prewittX=np.array([\n",
    "    [-1,0,1],\n",
    "    [-1,0,1],\n",
    "    [-1,0,1]\n",
    "]) #detection de bords horizontaux (comme sobelX mais moins marqué)\n",
    "\n",
    "laplacien=np.array([\n",
    "    [0,-1,0],\n",
    "    [-1,4,-1],\n",
    "    [0,-1,0]\n",
    "]) #detection de bords toutes directions\n",
    "\n",
    "laplacienPlus=np.array([\n",
    "    [-1,-1,-1],\n",
    "    [-1,8,-1],\n",
    "    [-1,-1,-1]\n",
    "]) #detection de bords toutes directions (laplacien plus marqué)\n",
    "\n",
    "blur=np.array([\n",
    "    [1/9,1/9,1/9],\n",
    "    [1/9,1/9,1/9],\n",
    "    [1/9,1/9,1/9]\n",
    "]) #flou\n",
    "\n",
    "gaussien=np.array([\n",
    "    [1/16,2/16,1/16],\n",
    "    [2/16,4/16,2/16],\n",
    "    [1/16,2/16,1/16]\n",
    "]) #flou plus doux\n",
    "\n",
    "sharpen=np.array([\n",
    "    [0,-1,0],\n",
    "    [-1,5,-1],\n",
    "    [0,-1,0]\n",
    "]) #accentuation contours\n",
    "\n",
    "\n",
    "avrPooling2dKernel=np.array([\n",
    "    [1/4,1/4],\n",
    "    [1/4,1/4]\n",
    "]) #Fait la moyenne des 4 éléments = avrPooling de dim 2,2"
   ]
  },
  {
   "cell_type": "code",
   "execution_count": 165,
   "id": "671dcea0",
   "metadata": {},
   "outputs": [],
   "source": [
    "def averagePooling2x2(images):\n",
    "    return conv2d(images,len(images),kernel_size=(2,2),pad_size=0,stride=2,specificKernel=[avrPooling2dKernel])"
   ]
  },
  {
   "cell_type": "code",
   "execution_count": 138,
   "id": "25750563",
   "metadata": {},
   "outputs": [
    {
     "name": "stdout",
     "output_type": "stream",
     "text": [
      "(28, 28)\n"
     ]
    },
    {
     "data": {
      "image/png": "[encoded data removed]",
      "text/plain": [
       "<Figure size 640x480 with 1 Axes>"
      ]
     },
     "metadata": {},
     "output_type": "display_data"
    },
    {
     "name": "stdout",
     "output_type": "stream",
     "text": [
      "(14, 14)\n"
     ]
    },
    {
     "data": {
      "image/png": "[encoded data removed]",
      "text/plain": [
       "<Figure size 640x480 with 1 Axes>"
      ]
     },
     "metadata": {},
     "output_type": "display_data"
    }
   ],
   "source": [
    "print(doubleConv[0][0][0].shape)\n",
    "plt.imshow(doubleConv[0][0][0],cmap=\"gray\")\n",
    "plt.title(f\"Kernel\")\n",
    "plt.axis(\"off\")\n",
    "plt.show()\n",
    "test=averagePooling2x2([doubleConv[0][0][0]])\n",
    "print(test[0][0].shape)\n",
    "plt.imshow(test[0][0],cmap=\"gray\")\n",
    "plt.title(f\"Kernel\")\n",
    "plt.axis(\"off\")\n",
    "plt.show()"
   ]
  },
  {
   "cell_type": "code",
   "execution_count": 6,
   "id": "bb5a3e60",
   "metadata": {},
   "outputs": [],
   "source": [
    "def padding(img,pad_size=0):\n",
    "    if pad_size==0:\n",
    "        return img\n",
    "    else:\n",
    "        newImg=np.zeros((img.shape[0]+2*pad_size,img.shape[1]+2*pad_size))\n",
    "        for w in range(pad_size,newImg.shape[0]-pad_size):\n",
    "            for h in range(pad_size,newImg.shape[1]-pad_size):\n",
    "                newImg[w][h]=img[w-pad_size][h-pad_size]\n",
    "        return newImg"
   ]
  },
  {
   "cell_type": "code",
   "execution_count": 169,
   "id": "fa9ac796",
   "metadata": {},
   "outputs": [],
   "source": [
    "def conv2d(images,nb_kernels,kernel_size,pad_size=0,stride=1,specificKernel=None,extractKernels=False):\n",
    "    outputs=[]\n",
    "    imgKernels=[]\n",
    "    print(len(images))\n",
    "    for img in images:\n",
    "        convolutions=[]\n",
    "        if specificKernel is not None:\n",
    "            if len(specificKernel)!=nb_kernels:\n",
    "                kernels=specificKernel*(nb_kernels//len(specificKernel))+specificKernel[:(nb_kernels%len(specificKernel))]\n",
    "            else:\n",
    "                kernels=specificKernel\n",
    "        else:\n",
    "            kernels=createRandomKernels(nb_kernels,(kernel_size,kernel_size))\n",
    "        for i,kernel in enumerate(kernels):\n",
    "            padded=padding(img,pad_size)\n",
    "            print(f\"{len(kernels)} {i} : {padded.shape}\")\n",
    "            newImg=np.zeros((((padded.shape[0]-kernel.shape[0])//stride)+1,((padded.shape[1]-kernel.shape[1])//stride)+1))\n",
    "            for w in range(newImg.shape[0]):\n",
    "                for h in range(newImg.shape[1]):\n",
    "                    result=0\n",
    "                    for kw in range(kernel.shape[0]):\n",
    "                        for kh in range(kernel.shape[1]):\n",
    "                            result+=kernel[kw][kh]*padded[w*stride+kw][h*stride+kh]\n",
    "                    newImg[w][h]=result\n",
    "            convolutions.append(newImg)\n",
    "        outputs.append(convolutions)\n",
    "        imgKernels.append(kernels)\n",
    "    if extractKernels:\n",
    "        return outputs,imgKernels\n",
    "    return outputs"
   ]
  },
  {
   "cell_type": "code",
   "execution_count": 32,
   "id": "80b80d3a",
   "metadata": {},
   "outputs": [],
   "source": [
    "def createRandomKernels(nb_kernels,dim):\n",
    "    kernels=[]\n",
    "    for i in range(nb_kernels):\n",
    "        kernels.append(np.random.randn(dim[0],dim[1]))\n",
    "    return kernels"
   ]
  },
  {
   "cell_type": "code",
   "execution_count": 140,
   "id": "5bce19e1",
   "metadata": {},
   "outputs": [
    {
     "name": "stdout",
     "output_type": "stream",
     "text": [
      "2\n"
     ]
    }
   ],
   "source": [
    "print(len(convoluted))"
   ]
  },
  {
   "cell_type": "code",
   "execution_count": 170,
   "id": "62bbe765",
   "metadata": {},
   "outputs": [
    {
     "name": "stdout",
     "output_type": "stream",
     "text": [
      "2\n",
      "2 0 : (30, 30)\n",
      "2 1 : (30, 30)\n",
      "2 0 : (30, 30)\n",
      "2 1 : (30, 30)\n",
      "2\n"
     ]
    },
    {
     "ename": "AttributeError",
     "evalue": "'list' object has no attribute 'shape'",
     "output_type": "error",
     "traceback": [
      "\u001b[1;31m---------------------------------------------------------------------------\u001b[0m",
      "\u001b[1;31mAttributeError\u001b[0m                            Traceback (most recent call last)",
      "Cell \u001b[1;32mIn[170], line 5\u001b[0m\n\u001b[0;32m      3\u001b[0m doubleConv,tripleConv\u001b[38;5;241m=\u001b[39m[],[]\n\u001b[0;32m      4\u001b[0m convoluted\u001b[38;5;241m=\u001b[39mconv2d(images,nb_kernels\u001b[38;5;241m=\u001b[39m\u001b[38;5;241m2\u001b[39m,kernel_size\u001b[38;5;241m=\u001b[39m\u001b[38;5;241m3\u001b[39m,pad_size\u001b[38;5;241m=\u001b[39m\u001b[38;5;241m1\u001b[39m)\n\u001b[1;32m----> 5\u001b[0m pooled\u001b[38;5;241m=\u001b[39maveragePooling2x2(convoluted)\n\u001b[0;32m      6\u001b[0m \u001b[38;5;28;01mfor\u001b[39;00m img \u001b[38;5;129;01min\u001b[39;00m \u001b[38;5;28mrange\u001b[39m(\u001b[38;5;28mlen\u001b[39m(images)):\n\u001b[0;32m      7\u001b[0m     doubleConv\u001b[38;5;241m.\u001b[39mappend(conv2d(pooled[img],nb_kernels\u001b[38;5;241m=\u001b[39m\u001b[38;5;241m2\u001b[39m,kernel_size\u001b[38;5;241m=\u001b[39m\u001b[38;5;241m3\u001b[39m,pad_size\u001b[38;5;241m=\u001b[39m\u001b[38;5;241m1\u001b[39m))\n",
      "Cell \u001b[1;32mIn[165], line 2\u001b[0m, in \u001b[0;36maveragePooling2x2\u001b[1;34m(images)\u001b[0m\n\u001b[0;32m      1\u001b[0m \u001b[38;5;28;01mdef\u001b[39;00m \u001b[38;5;21maveragePooling2x2\u001b[39m(images):\n\u001b[1;32m----> 2\u001b[0m     \u001b[38;5;28;01mreturn\u001b[39;00m conv2d(images,\u001b[38;5;28mlen\u001b[39m(images),kernel_size\u001b[38;5;241m=\u001b[39m(\u001b[38;5;241m2\u001b[39m,\u001b[38;5;241m2\u001b[39m),pad_size\u001b[38;5;241m=\u001b[39m\u001b[38;5;241m0\u001b[39m,stride\u001b[38;5;241m=\u001b[39m\u001b[38;5;241m2\u001b[39m,specificKernel\u001b[38;5;241m=\u001b[39m[avrPooling2dKernel])\n",
      "Cell \u001b[1;32mIn[169], line 16\u001b[0m, in \u001b[0;36mconv2d\u001b[1;34m(images, nb_kernels, kernel_size, pad_size, stride, specificKernel, extractKernels)\u001b[0m\n\u001b[0;32m     14\u001b[0m \u001b[38;5;28;01mfor\u001b[39;00m i,kernel \u001b[38;5;129;01min\u001b[39;00m \u001b[38;5;28menumerate\u001b[39m(kernels):\n\u001b[0;32m     15\u001b[0m     padded\u001b[38;5;241m=\u001b[39mpadding(img,pad_size)\n\u001b[1;32m---> 16\u001b[0m     \u001b[38;5;28mprint\u001b[39m(\u001b[38;5;124mf\u001b[39m\u001b[38;5;124m\"\u001b[39m\u001b[38;5;132;01m{\u001b[39;00m\u001b[38;5;28mlen\u001b[39m(kernels)\u001b[38;5;132;01m}\u001b[39;00m\u001b[38;5;124m \u001b[39m\u001b[38;5;132;01m{\u001b[39;00mi\u001b[38;5;132;01m}\u001b[39;00m\u001b[38;5;124m : \u001b[39m\u001b[38;5;132;01m{\u001b[39;00mpadded\u001b[38;5;241m.\u001b[39mshape\u001b[38;5;132;01m}\u001b[39;00m\u001b[38;5;124m\"\u001b[39m)\n\u001b[0;32m     17\u001b[0m     newImg\u001b[38;5;241m=\u001b[39mnp\u001b[38;5;241m.\u001b[39mzeros((((padded\u001b[38;5;241m.\u001b[39mshape[\u001b[38;5;241m0\u001b[39m]\u001b[38;5;241m-\u001b[39mkernel\u001b[38;5;241m.\u001b[39mshape[\u001b[38;5;241m0\u001b[39m])\u001b[38;5;241m/\u001b[39m\u001b[38;5;241m/\u001b[39mstride)\u001b[38;5;241m+\u001b[39m\u001b[38;5;241m1\u001b[39m,((padded\u001b[38;5;241m.\u001b[39mshape[\u001b[38;5;241m1\u001b[39m]\u001b[38;5;241m-\u001b[39mkernel\u001b[38;5;241m.\u001b[39mshape[\u001b[38;5;241m1\u001b[39m])\u001b[38;5;241m/\u001b[39m\u001b[38;5;241m/\u001b[39mstride)\u001b[38;5;241m+\u001b[39m\u001b[38;5;241m1\u001b[39m))\n\u001b[0;32m     18\u001b[0m     \u001b[38;5;28;01mfor\u001b[39;00m w \u001b[38;5;129;01min\u001b[39;00m \u001b[38;5;28mrange\u001b[39m(newImg\u001b[38;5;241m.\u001b[39mshape[\u001b[38;5;241m0\u001b[39m]):\n",
      "\u001b[1;31mAttributeError\u001b[0m: 'list' object has no attribute 'shape'"
     ]
    }
   ],
   "source": [
    "kernels=[sobelX,sobelY,prewittX,laplacien,laplacienPlus,blur,gaussien,sharpen]\n",
    "images=[X_train[0],X_train[1]]\n",
    "doubleConv,tripleConv=[],[]\n",
    "convoluted=conv2d(images,nb_kernels=2,kernel_size=3,pad_size=1)\n",
    "pooled=averagePooling2x2(convoluted)\n",
    "for img in range(len(images)):\n",
    "    doubleConv.append(conv2d(pooled[img],nb_kernels=2,kernel_size=3,pad_size=1))\n",
    "for img in range(len(images)):\n",
    "    for conv in range(len(convoluted)):\n",
    "        for double in range(len(doubleConv)):\n",
    "            plt.imshow(doubleConv[img][conv][double],cmap=\"gray\")\n",
    "            plt.title(f\"Kernel de l'image {img}, conv {conv} et doubleconv {double}\")\n",
    "            plt.axis(\"off\")\n",
    "            plt.show()"
   ]
  }
 ],
 "metadata": {
  "kernelspec": {
   "display_name": "base",
   "language": "python",
   "name": "python3"
  },
  "language_info": {
   "codemirror_mode": {
    "name": "ipython",
    "version": 3
   },
   "file_extension": ".py",
   "mimetype": "text/x-python",
   "name": "python",
   "nbconvert_exporter": "python",
   "pygments_lexer": "ipython3",
   "version": "3.12.4"
  }
 },
 "nbformat": 4,
 "nbformat_minor": 5
}
