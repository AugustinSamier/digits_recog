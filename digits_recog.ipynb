{
 "cells": [
  {
   "cell_type": "code",
   "execution_count": 1,
   "id": "423aeadf",
   "metadata": {},
   "outputs": [],
   "source": [
    "import os\n",
    "import numpy as np\n",
    "import pandas as pd\n",
    "import matplotlib.pyplot as plt"
   ]
  },
  {
   "cell_type": "code",
   "execution_count": 2,
   "id": "c2bfbd56",
   "metadata": {},
   "outputs": [
    {
     "name": "stdout",
     "output_type": "stream",
     "text": [
      "   label  pixel0  pixel1  pixel2  pixel3  pixel4  pixel5  pixel6  pixel7  \\\n",
      "0      1       0       0       0       0       0       0       0       0   \n",
      "1      0       0       0       0       0       0       0       0       0   \n",
      "2      1       0       0       0       0       0       0       0       0   \n",
      "3      4       0       0       0       0       0       0       0       0   \n",
      "4      0       0       0       0       0       0       0       0       0   \n",
      "\n",
      "   pixel8  ...  pixel774  pixel775  pixel776  pixel777  pixel778  pixel779  \\\n",
      "0       0  ...         0         0         0         0         0         0   \n",
      "1       0  ...         0         0         0         0         0         0   \n",
      "2       0  ...         0         0         0         0         0         0   \n",
      "3       0  ...         0         0         0         0         0         0   \n",
      "4       0  ...         0         0         0         0         0         0   \n",
      "\n",
      "   pixel780  pixel781  pixel782  pixel783  \n",
      "0         0         0         0         0  \n",
      "1         0         0         0         0  \n",
      "2         0         0         0         0  \n",
      "3         0         0         0         0  \n",
      "4         0         0         0         0  \n",
      "\n",
      "[5 rows x 785 columns]\n"
     ]
    }
   ],
   "source": [
    "trainDf=pd.read_csv(\"train.csv\")\n",
    "print(trainDf.head())"
   ]
  },
  {
   "cell_type": "code",
   "execution_count": 3,
   "id": "fcd59e04",
   "metadata": {},
   "outputs": [
    {
     "name": "stdout",
     "output_type": "stream",
     "text": [
      "(42000, 785)\n"
     ]
    }
   ],
   "source": [
    "print(trainDf.shape)"
   ]
  },
  {
   "cell_type": "code",
   "execution_count": 4,
   "id": "be20b5b1",
   "metadata": {},
   "outputs": [
    {
     "name": "stdout",
     "output_type": "stream",
     "text": [
      "Size of y_train : 42000\n",
      "Size of X_train : (42000, 28, 28)\n",
      "\n"
     ]
    }
   ],
   "source": [
    "ytrain=trainDf[\"label\"].values\n",
    "X_train=trainDf.iloc[:,1:].values.reshape(-1,28,28)\n",
    "X_train=X_train.astype(np.float32)/255.0\n",
    "print(f\"Size of y_train : {len(ytrain)}\\nSize of X_train : {X_train.shape}\\n\")"
   ]
  },
  {
   "cell_type": "code",
   "execution_count": 5,
   "id": "70e1a84a",
   "metadata": {},
   "outputs": [
    {
     "data": {
      "image/png": "[encoded data removed]",
      "text/plain": [
       "<Figure size 640x480 with 1 Axes>"
      ]
     },
     "metadata": {},
     "output_type": "display_data"
    }
   ],
   "source": [
    "plt.imshow(X_train[0],cmap=\"gray\")\n",
    "plt.title(\"Premier sample\")\n",
    "plt.axis(\"off\")\n",
    "plt.show()"
   ]
  },
  {
   "cell_type": "code",
   "execution_count": 6,
   "id": "ef179dae",
   "metadata": {},
   "outputs": [],
   "source": [
    "sobelX=np.array([\n",
    "    [-1,0,1],\n",
    "    [-2,0,2],\n",
    "    [-1,0,1]\n",
    "]) #detection de bords horizontaux\n",
    "\n",
    "sobelY=np.array([\n",
    "    [-1,-2,-1],\n",
    "    [0,0,0],\n",
    "    [1,2,1]\n",
    "]) #detection de bords verticaux\n",
    "\n",
    "prewittX=np.array([\n",
    "    [-1,0,1],\n",
    "    [-1,0,1],\n",
    "    [-1,0,1]\n",
    "]) #detection de bords horizontaux (comme sobelX mais moins marqué)\n",
    "\n",
    "laplacien=np.array([\n",
    "    [0,-1,0],\n",
    "    [-1,4,-1],\n",
    "    [0,-1,0]\n",
    "]) #detection de bords toutes directions\n",
    "\n",
    "laplacienPlus=np.array([\n",
    "    [-1,-1,-1],\n",
    "    [-1,8,-1],\n",
    "    [-1,-1,-1]\n",
    "]) #detection de bords toutes directions (laplacien plus marqué)\n",
    "\n",
    "blur=np.array([\n",
    "    [1/9,1/9,1/9],\n",
    "    [1/9,1/9,1/9],\n",
    "    [1/9,1/9,1/9]\n",
    "]) #flou\n",
    "\n",
    "gaussien=np.array([\n",
    "    [1/16,2/16,1/16],\n",
    "    [2/16,4/16,2/16],\n",
    "    [1/16,2/16,1/16]\n",
    "]) #flou plus doux\n",
    "\n",
    "sharpen=np.array([\n",
    "    [0,-1,0],\n",
    "    [-1,5,-1],\n",
    "    [0,-1,0]\n",
    "]) #accentuation contours\n",
    "\n",
    "\n",
    "avrPooling2dKernel=np.array([\n",
    "    [1/4,1/4],\n",
    "    [1/4,1/4]\n",
    "]) #Fait la moyenne des 4 éléments = avrPooling de dim 2,2"
   ]
  },
  {
   "cell_type": "code",
   "execution_count": 7,
   "id": "bb5a3e60",
   "metadata": {},
   "outputs": [],
   "source": [
    "def padding(img,pad_size=0):\n",
    "    if pad_size==0:\n",
    "        return img\n",
    "    else:\n",
    "        newImg=np.zeros((img.shape[0]+2*pad_size,img.shape[1]+2*pad_size))\n",
    "        for w in range(pad_size,newImg.shape[0]-pad_size):\n",
    "            for h in range(pad_size,newImg.shape[1]-pad_size):\n",
    "                newImg[w][h]=img[w-pad_size][h-pad_size]\n",
    "        return newImg"
   ]
  },
  {
   "cell_type": "code",
   "execution_count": 8,
   "id": "80b80d3a",
   "metadata": {},
   "outputs": [],
   "source": [
    "def createRandomKernels(nb_kernels,dim):\n",
    "    kernels=[]\n",
    "    for i in range(nb_kernels):\n",
    "        kernels.append(np.random.randn(dim[0],dim[1]))\n",
    "    return kernels"
   ]
  },
  {
   "cell_type": "code",
   "execution_count": 9,
   "id": "1796c8f7",
   "metadata": {},
   "outputs": [],
   "source": [
    "def maxPooling2d(images,dim):\n",
    "    maxed=[]\n",
    "    for img in images:\n",
    "        newImg=np.zeros((((img.shape[0]-dim[0])//dim[0])+1,((img.shape[1]-dim[1])//dim[1])+1))\n",
    "        for w in range(newImg.shape[0]):\n",
    "            for h in range(newImg.shape[1]):\n",
    "                cur_max=float(\"-inf\")\n",
    "                for kw in range(dim[0]):\n",
    "                    for kh in range(dim[1]):\n",
    "                        if img[w*dim[0]+kw][h*dim[1]+kh]>cur_max:\n",
    "                            cur_max=img[w*dim[0]+kw][h*dim[1]+kh]\n",
    "                newImg[w][h]=cur_max\n",
    "        maxed.append(newImg)\n",
    "    return maxed"
   ]
  },
  {
   "cell_type": "code",
   "execution_count": 10,
   "id": "671dcea0",
   "metadata": {},
   "outputs": [],
   "source": [
    "def averagePooling2d(images,dim):\n",
    "    averaged=[]\n",
    "    for img in images:\n",
    "        newImg=np.zeros((((img.shape[0]-dim[0])//dim[0])+1,((img.shape[1]-dim[1])//dim[1])+1))\n",
    "        for w in range(newImg.shape[0]):\n",
    "            for h in range(newImg.shape[1]):\n",
    "                avr=0\n",
    "                for kw in range(dim[0]):\n",
    "                    for kh in range(dim[1]):\n",
    "                        avr+=img[w*dim[0]+kw][h*dim[1]+kh]\n",
    "                newImg[w][h]=avr/(dim[0]*dim[1])\n",
    "        averaged.append(newImg)\n",
    "    return averaged"
   ]
  },
  {
   "cell_type": "code",
   "execution_count": 11,
   "id": "4328a65f",
   "metadata": {},
   "outputs": [],
   "source": [
    "def conv2d(inputs,out_dim,kernel_size,pad_size=0,stride=1,specificKernel=None,extractKernels=False):\n",
    "    outputs=[]\n",
    "    kernels=[]\n",
    "    padded=[]\n",
    "    for img in inputs:\n",
    "        padded.append(padding(img,pad_size=pad_size))\n",
    "    for resultante in range(out_dim):\n",
    "        if specificKernel is not None:\n",
    "            if len(specificKernel)!=len(inputs):\n",
    "                if len(specificKernel)>len(inputs):\n",
    "                    k=specificKernel[:len(inputs)]\n",
    "                else:\n",
    "                    k=specificKernel*(len(inputs)//len(specificKernel))+specificKernel[:len(inputs)%len(specificKernel)]\n",
    "            else:\n",
    "                k=specificKernel\n",
    "        else:\n",
    "            k=createRandomKernels(len(inputs),kernel_size)\n",
    "        kernels.append(k)\n",
    "\n",
    "        newImg=np.zeros((((padded[0].shape[0]-kernel_size[0])//stride)+1,((padded[0].shape[1]-kernel_size[1])//stride)+1))\n",
    "\n",
    "        for w in range(newImg.shape[0]):\n",
    "            for h in range(newImg.shape[1]):\n",
    "                res=0\n",
    "                for kw in range(kernel_size[0]):\n",
    "                    for kh in range(kernel_size[1]):\n",
    "                        tot=0\n",
    "                        for i,img in enumerate(padded):\n",
    "                            tot+=k[i][kw][kh]*img[w*stride+kw][h*stride+kh]\n",
    "                        res+=tot\n",
    "                newImg[w][h]=res\n",
    "\n",
    "        outputs.append(newImg)\n",
    "    \n",
    "    if extractKernels:\n",
    "        return outputs,kernels\n",
    "    return outputs"
   ]
  },
  {
   "cell_type": "code",
   "execution_count": 12,
   "id": "62bbe765",
   "metadata": {},
   "outputs": [
    {
     "data": {
      "image/png": "[encoded data removed]",
      "text/plain": [
       "<Figure size 640x480 with 1 Axes>"
      ]
     },
     "metadata": {},
     "output_type": "display_data"
    },
    {
     "data": {
      "image/png": "[encoded data removed]",
      "text/plain": [
       "<Figure size 640x480 with 1 Axes>"
      ]
     },
     "metadata": {},
     "output_type": "display_data"
    },
    {
     "data": {
      "image/png": "[encoded data removed]",
      "text/plain": [
       "<Figure size 640x480 with 1 Axes>"
      ]
     },
     "metadata": {},
     "output_type": "display_data"
    },
    {
     "data": {
      "image/png": "[encoded data removed]",
      "text/plain": [
       "<Figure size 640x480 with 1 Axes>"
      ]
     },
     "metadata": {},
     "output_type": "display_data"
    },
    {
     "data": {
      "image/png": "[encoded data removed]",
      "text/plain": [
       "<Figure size 640x480 with 1 Axes>"
      ]
     },
     "metadata": {},
     "output_type": "display_data"
    },
    {
     "data": {
      "image/png": "[encoded data removed]",
      "text/plain": [
       "<Figure size 640x480 with 1 Axes>"
      ]
     },
     "metadata": {},
     "output_type": "display_data"
    },
    {
     "data": {
      "image/png": "[encoded data removed]",
      "text/plain": [
       "<Figure size 640x480 with 1 Axes>"
      ]
     },
     "metadata": {},
     "output_type": "display_data"
    },
    {
     "data": {
      "image/png": "[encoded data removed]",
      "text/plain": [
       "<Figure size 640x480 with 1 Axes>"
      ]
     },
     "metadata": {},
     "output_type": "display_data"
    },
    {
     "data": {
      "image/png": "[encoded data removed]",
      "text/plain": [
       "<Figure size 640x480 with 1 Axes>"
      ]
     },
     "metadata": {},
     "output_type": "display_data"
    },
    {
     "data": {
      "image/png": "[encoded data removed]",
      "text/plain": [
       "<Figure size 640x480 with 1 Axes>"
      ]
     },
     "metadata": {},
     "output_type": "display_data"
    },
    {
     "data": {
      "image/png": "[encoded data removed]",
      "text/plain": [
       "<Figure size 640x480 with 1 Axes>"
      ]
     },
     "metadata": {},
     "output_type": "display_data"
    },
    {
     "data": {
      "image/png": "[encoded data removed]",
      "text/plain": [
       "<Figure size 640x480 with 1 Axes>"
      ]
     },
     "metadata": {},
     "output_type": "display_data"
    },
    {
     "data": {
      "image/png": "[encoded data removed]",
      "text/plain": [
       "<Figure size 640x480 with 1 Axes>"
      ]
     },
     "metadata": {},
     "output_type": "display_data"
    },
    {
     "data": {
      "image/png": "[encoded data removed]",
      "text/plain": [
       "<Figure size 640x480 with 1 Axes>"
      ]
     },
     "metadata": {},
     "output_type": "display_data"
    },
    {
     "data": {
      "image/png": "[encoded data removed]",
      "text/plain": [
       "<Figure size 640x480 with 1 Axes>"
      ]
     },
     "metadata": {},
     "output_type": "display_data"
    },
    {
     "data": {
      "image/png": "[encoded data removed]",
      "text/plain": [
       "<Figure size 640x480 with 1 Axes>"
      ]
     },
     "metadata": {},
     "output_type": "display_data"
    }
   ],
   "source": [
    "kernels=[sobelX,sobelY,prewittX,laplacien,laplacienPlus,blur,gaussien,sharpen]\n",
    "#si je veux passer une image BGR il faut d'abord la passer en gris ou séparer les cannaux en plusieurs images\n",
    "images=[X_train[0],X_train[1]]\n",
    "conv1=[]\n",
    "for img in images:\n",
    "    conv=(conv2d([img],6,(5,5),pad_size=0))\n",
    "    avr=averagePooling2d(conv,(2,2))\n",
    "    conv2=conv2d(avr,16,(5,5),pad_size=0)\n",
    "    avr2=averagePooling2d(conv2,(2,2))\n",
    "    conv1.append(avr2)\n",
    "for i in range(1):\n",
    "    for m in range(len(conv1[i])):\n",
    "        plt.imshow(conv1[i][m],cmap=\"gray\")\n",
    "        plt.title(f\"Convolution {m+1} of image {i+1}\")\n",
    "        plt.axis(\"off\")\n",
    "        plt.show()"
   ]
  },
  {
   "cell_type": "code",
   "execution_count": 13,
   "id": "6026eca9",
   "metadata": {},
   "outputs": [],
   "source": [
    "flat=[]\n",
    "for i in range(len(conv1)):\n",
    "    fla=[]\n",
    "    for convs in conv1[i]:\n",
    "        fla.append(convs.flatten())\n",
    "    ca=np.concatenate(fla)\n",
    "    flat.append(ca)"
   ]
  },
  {
   "cell_type": "code",
   "execution_count": 14,
   "id": "e2ad4f33",
   "metadata": {},
   "outputs": [
    {
     "name": "stdout",
     "output_type": "stream",
     "text": [
      "256\n"
     ]
    }
   ],
   "source": [
    "print(len(flat[0]))"
   ]
  },
  {
   "cell_type": "code",
   "execution_count": 15,
   "id": "19e2a6f2",
   "metadata": {},
   "outputs": [],
   "source": [
    "def createRandomBias(nb_neurones):\n",
    "    bias=np.random.randn(nb_neurones)\n",
    "    return bias"
   ]
  },
  {
   "cell_type": "code",
   "execution_count": 16,
   "id": "0c79edb9",
   "metadata": {},
   "outputs": [],
   "source": [
    "def createRandomWeights(nb_inputs,nb_neurones):\n",
    "    limit=np.sqrt(6/(nb_inputs+nb_neurones))\n",
    "    weights=np.random.uniform(-limit,limit,size=(nb_neurones,nb_inputs))\n",
    "    return weights"
   ]
  },
  {
   "cell_type": "code",
   "execution_count": 17,
   "id": "3012f54d",
   "metadata": {},
   "outputs": [],
   "source": [
    "def denseLayer(inputs,nb_neurones,fonctionActivation=None,specificBias=None,specificWeights=None,returnWeightsAndBias=False,alpha=0.01):\n",
    "    bias=[]\n",
    "    weights=[]\n",
    "    outputs=[]\n",
    "    if specificBias is None:\n",
    "        bias=createRandomBias(nb_neurones)\n",
    "    elif len(specificBias)==nb_neurones:\n",
    "        bias=specificBias\n",
    "    else:\n",
    "        print(f\"Erreur : le nombre de biais assigné ({len(specificBias)}) n'est pas équivalent au nombre de neurones : {nb_neurones}\")\n",
    "    if specificWeights is None:\n",
    "        weights=createRandomWeights(len(inputs),nb_neurones)\n",
    "    elif len(specificWeights)==nb_neurones and len(specificWeights[0])==len(inputs):\n",
    "        weights=specificWeights\n",
    "    else:\n",
    "        print(f\"Erreur : le nombre de poids assigné n'est pas correct : {len(specificWeights)} pour {nb_neurones} neurones et {len(specificWeights[0])} pour {len(inputs)} inputs.\")\n",
    "    for neurone in range(nb_neurones):\n",
    "        result=0\n",
    "        for inpu in range(len(inputs)):\n",
    "            result+=(inputs[inpu]*weights[neurone][inpu])\n",
    "        result+=bias[neurone]\n",
    "        if fonctionActivation==\"ReLU\":\n",
    "            result=max(0,result)\n",
    "        if fonctionActivation==\"Leaky ReLU\":\n",
    "            if result<0:\n",
    "                result=alpha*result\n",
    "        if fonctionActivation==\"Sigmoid\":\n",
    "            result=(1/(1+np.exp(-result)))\n",
    "        if fonctionActivation==\"Tanh\":\n",
    "            result=((np.exp(result)-np.exp(-result))/(np.exp(result)+np.exp(-result)))\n",
    "        outputs.append(result)\n",
    "    if fonctionActivation==\"Softmax\":\n",
    "        exps=np.exp(outputs-np.max(outputs))\n",
    "        outputs=exps/np.sum(exps)\n",
    "    if returnWeightsAndBias:\n",
    "        return outputs,weights,bias\n",
    "    return outputs"
   ]
  },
  {
   "cell_type": "code",
   "execution_count": 18,
   "id": "fce88c6d",
   "metadata": {},
   "outputs": [
    {
     "name": "stdout",
     "output_type": "stream",
     "text": [
      "[-0.29054167 -0.25932149  0.29060659]\n",
      "[1.3875604805075445, 0.3159268955649578]\n",
      "[0.5843627  0.37302503 0.04261228]\n"
     ]
    }
   ],
   "source": [
    "test=np.random.randn(3)\n",
    "print(test)\n",
    "outputs=denseLayer(test,2,fonctionActivation=\"Leaky ReLU\")\n",
    "print(outputs)\n",
    "outputs2=denseLayer(outputs,3,fonctionActivation=\"Softmax\")\n",
    "print(outputs2)"
   ]
  },
  {
   "cell_type": "code",
   "execution_count": 19,
   "id": "e51df651",
   "metadata": {},
   "outputs": [],
   "source": [
    "y_train=[]\n",
    "for y in range(len(ytrain)):\n",
    "    yt=np.zeros(10)\n",
    "    yt[ytrain[y]]=1\n",
    "    y_train.append(yt)"
   ]
  },
  {
   "cell_type": "code",
   "execution_count": 20,
   "id": "361ad00a",
   "metadata": {},
   "outputs": [
    {
     "name": "stdout",
     "output_type": "stream",
     "text": [
      "[0. 1. 0. 0. 0. 0. 0. 0. 0. 0.]\n"
     ]
    }
   ],
   "source": [
    "print(y_train[0])"
   ]
  },
  {
   "cell_type": "code",
   "execution_count": 21,
   "id": "4841ea07",
   "metadata": {},
   "outputs": [
    {
     "name": "stdout",
     "output_type": "stream",
     "text": [
      "[6.24592516e-07 7.41536019e-07 1.35257685e-12 2.08779184e-11\n",
      " 1.20410137e-01 8.79588195e-01 1.59846540e-10 5.36254445e-15\n",
      " 3.01835447e-07 3.90392368e-12]\n",
      "[8.12525963e-01 8.73557275e-12 1.35276070e-49 4.54465147e-12\n",
      " 2.73466419e-02 4.92147079e-20 7.57390926e-11 1.83455945e-08\n",
      " 2.55972796e-29 1.60127376e-01]\n"
     ]
    }
   ],
   "source": [
    "outputs1,weights1,bias1=[],createRandomWeights(256,128),createRandomBias(128)\n",
    "outputs2,weights2,bias2=[],createRandomWeights(128,84),createRandomBias(84)\n",
    "outputs3,weights3,bias3=[],createRandomWeights(84,10),createRandomBias(10)\n",
    "#256 -> 128 -> 84 -> 10\n",
    "for f,fla in enumerate(flat):\n",
    "    outputs1.append(denseLayer(fla,128,fonctionActivation=\"ReLU\",specificBias=bias1,specificWeights=weights1))\n",
    "    outputs2.append(denseLayer(outputs1[f],84,fonctionActivation=\"ReLU\",specificBias=bias2,specificWeights=weights2))\n",
    "    outputs3.append(denseLayer(outputs2[f],10,fonctionActivation=\"Softmax\",specificBias=bias3,specificWeights=weights3))\n",
    "\n",
    "print(outputs3[0])\n",
    "print(outputs3[1])"
   ]
  },
  {
   "cell_type": "code",
   "execution_count": 22,
   "id": "b2500913",
   "metadata": {},
   "outputs": [
    {
     "name": "stdout",
     "output_type": "stream",
     "text": [
      "0.00615351299380146\n"
     ]
    }
   ],
   "source": [
    "MSE=[]\n",
    "for out in range(len(outputs3)):\n",
    "    MSE.append((np.sum((outputs3[out]-y_train[out])**2))/10)\n",
    "print(MSE[1])"
   ]
  },
  {
   "cell_type": "code",
   "execution_count": 31,
   "id": "b3cb2392",
   "metadata": {},
   "outputs": [],
   "source": [
    "#DMSE/DWx = DMSE/DYx * DYx/DZx * DZx/DWx pour les poids entre la dernière couche et la couche de sortie\n",
    "#fonction d'activation : Softmax\n",
    "#on fait 84 -> 10 donc chaque output a 84 poids connectés à elle\n",
    "#DMSE/Dweights3[0][0] -> pour actualier le premier poids, celui entre le premier neurone de la couche précédente et la première output.\n",
    "#= DMSE/Doutputs3[0] (Doutputs3[0] = softmax(Z0)+bias3[0]) * Doutputs3[0]/DZ[0] * DZ[0]/Dweights3[0][0] Z[0] = a0*weights3[0][0]+a0*weights3[0][1]+...+bias[0], \n",
    "#a0 étant l'output du premier neurone de la couche précédente et bias3 le biais du premier neurone.\n",
    "#Ainsi MSE=(1/10)*SOMME((outputs3-y_train[0])**2) = 1/10 * ((outputs3[0]-y_train[0][0])²+(outputs3[0]-y_train[0][0])²+...) donc DMSE/Doutputs3[0] = 1/10 * 2 * 1 * (outputs3[0]-y_train[0][0])\n",
    "#Doutputs3[0]/DZ[0] = Dsoftmax(Z0)/DZ0 -> softmax(Z0) = exp(Z0)/SOMME0->n(exp(Zn)) Dsoftmax(Z0)/DZ0 est de la forme (U/V)' donc = (exp(Z0)*(SOMME)-exp(Z0)²)/SOMME² = exp(Z0)*(SOMME-exp(Z0))/SOMME²\n",
    "#sachant que outputs3[0]=exp(Z0)/SOMME alors Dsoftmax(Z0)/DZ0= outputs3[0]*((SOMME/SOMME)-(exp(Z0)/SOMME)) = outputs3[0]*(1-outputs3[0]) = outputes3[0] - outputs3[0]**2\n",
    "#enfin, DZ0/Dweights3[0][0]= D(outputs2[0]*weights3[0][0]+outputs2[0]*weights3[0][1]...)/Dweights3[0][0] = outputs2[0]\n",
    "#en conclusion: DMSE/Dweights3[0][0]=1/5 * (outputs3[0]-y_train[0][0]) * (outputs3[0]-outputs3[0]**2) * outputs2[0]\n",
    "#et pour actualiser weights3[0][1] : 1/5 * (outputs3[0]-y_train[0][0]) * (outputs3[0]-outputs3[0]**2) * outputs2[1] jusqu'à outputs2[83] pour weights3[0][83]\n",
    "#pour weights3[1][0] : 1/5 * (outputs3[1]-y_train[0][1]) * (outputs3[1]-outputs3[1]**2) * outputs2[0] etc...\n",
    "#pour weights2[0][0]: (1/5 * (outputs3[1]-y_train[0][1]) * (outputs3[1]-outputs3[1]**2)+1/5 * (outputs3[2]-y_train[0][2]) * (outputs3[2]-outputs3[2]**2))\n",
    "def backPropagation(outputs1,outputs2,outputs3,weights1,weights2,weights3,bias1,bias2,bias3,MSE,alpha=0.001):\n",
    "    newWeights3Grads=np.zeros(weights3.shape)\n",
    "    newBias3Grads=np.zeros(bias3.shape)\n",
    "    for img in range(len(outputs3)): #on parcours chaque image\n",
    "        for outputs2a in range(len(outputs2[img])):\n",
    "            for outputs3a in range(len(outputs3[img])):\n",
    "                #print(f\"img : {img}/{len(images)} outputs2a : {outputs2a}/{len(outputs2[img])} outputs3a : {outputs3a}/{len(outputs3[img])}\")\n",
    "                gradB3=(1/5)*(outputs3[img][outputs3a]-y_train[img][outputs3a])*outputs3[img][outputs3a]*(1-outputs3[img][outputs3a])\n",
    "                gradW3=gradB3*outputs2[img][outputs2a]\n",
    "                newWeights3Grads[outputs3a][outputs2a]+=gradW3/len(outputs3)\n",
    "                newBias3Grads[outputs3a]+=gradB3/len(outputs3)\n",
    "    newWeights3=weights3-alpha*newWeights3Grads\n",
    "    newBias3=bias3-alpha*newBias3Grads\n",
    "    return newWeights3,newBias3"
   ]
  },
  {
   "cell_type": "code",
   "execution_count": 36,
   "id": "990b2536",
   "metadata": {},
   "outputs": [
    {
     "name": "stdout",
     "output_type": "stream",
     "text": [
      "0.8182286954170929\n",
      "0.8184685780433056\n"
     ]
    }
   ],
   "source": [
    "print(bias3[0])\n",
    "print(newBias3[0])"
   ]
  },
  {
   "cell_type": "code",
   "execution_count": 33,
   "id": "873b9f38",
   "metadata": {},
   "outputs": [
    {
     "name": "stdout",
     "output_type": "stream",
     "text": [
      "(10, 84)\n",
      "(10,)\n"
     ]
    }
   ],
   "source": [
    "newWeights3,newBias3=backPropagation(outputs1,outputs2,outputs3,weights1,weights2,weights3,bias1,bias2,bias3,MSE)\n",
    "print(newWeights3.shape)\n",
    "print(newBias3.shape)"
   ]
  }
 ],
 "metadata": {
  "kernelspec": {
   "display_name": "base",
   "language": "python",
   "name": "python3"
  },
  "language_info": {
   "codemirror_mode": {
    "name": "ipython",
    "version": 3
   },
   "file_extension": ".py",
   "mimetype": "text/x-python",
   "name": "python",
   "nbconvert_exporter": "python",
   "pygments_lexer": "ipython3",
   "version": "3.12.4"
  }
 },
 "nbformat": 4,
 "nbformat_minor": 5
}
